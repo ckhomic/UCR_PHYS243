{
 "cells": [
  {
   "cell_type": "markdown",
   "metadata": {},
   "source": [
    "---\n",
    "# Homework 1:"
   ]
  },
  {
   "cell_type": "code",
   "execution_count": 1,
   "metadata": {},
   "outputs": [],
   "source": [
    "# import numpy for calculating stuff\n",
    "import numpy as np\n",
    "import pandas as pd\n",
    "import os \n",
    "\n",
    "# For storing objects\n",
    "import pickle\n",
    "\n",
    "# You can use a another tool from deepdish to do the same thing:\n",
    "# http://deepdish.io/ , comment out next line for using deepdish\n",
    "import deepdish as dd\n",
    "\n",
    "# Astronomical packages\n",
    "import astropy\n",
    "\n",
    "# importing skit-learn library\n",
    "import sklearn\n",
    "from sklearn.metrics import accuracy_score, confusion_matrix, classification_report\n",
    "from sklearn.model_selection import train_test_split\n",
    "\n",
    "# import matplotlib.pyplot for plotting stuff\n",
    "import matplotlib.pyplot as plt\n",
    "\n",
    "# font parameters dictionary\n",
    "font = {'family' : 'serif',\n",
    "        'weight' : 'bold',\n",
    "}\n",
    "# use LaTeX fonts in the plot\n",
    "plt.rc('text', usetex=True)\n",
    "\n",
    "# Set the font parameters\n",
    "plt.rc('font', **font) \n",
    "\n",
    "\n",
    "# Formating a number into scientific notation\n",
    "def format_e(n):\n",
    "    a = '{:.2E}'.format(n)\n",
    "    return a.split('E')[0].rstrip('0').rstrip('.') + 'E' + a.split('E')[1]"
   ]
  },
  {
   "cell_type": "markdown",
   "metadata": {},
   "source": [
    "# Problem 1: \n",
    "\n",
    "### 0.4 point"
   ]
  },
  {
   "cell_type": "markdown",
   "metadata": {},
   "source": [
    "## Part 1:"
   ]
  },
  {
   "cell_type": "code",
   "execution_count": 2,
   "metadata": {},
   "outputs": [],
   "source": [
    "def Fib_rec(n=0):\n",
    "    if  n == 0:\n",
    "        return  1\n",
    "    elif  n == 1:\n",
    "        return 1\n",
    "    else:\n",
    "        return Fib_rec(n - 1) + Fib_rec(n - 2)"
   ]
  },
  {
   "cell_type": "code",
   "execution_count": 3,
   "metadata": {},
   "outputs": [
    {
     "data": {
      "text/plain": [
       "[1, 1, 2, 3, 5, 8, 13, 21, 34, 55, 89, 144, 233, 377, 610]"
      ]
     },
     "execution_count": 3,
     "metadata": {},
     "output_type": "execute_result"
    }
   ],
   "source": [
    "[Fib_rec(i) for i in range(15)]"
   ]
  },
  {
   "cell_type": "code",
   "execution_count": 4,
   "metadata": {},
   "outputs": [],
   "source": [
    "def Fib_loop(n=0):\n",
    "    if n == 0 or n == 1:\n",
    "        an = 1\n",
    "    else:\n",
    "        a0, a1 = 1, 1\n",
    "        for i in range(1, n):\n",
    "            an = a0 + a1\n",
    "            a0 = a1\n",
    "            a1 = an \n",
    "    return an"
   ]
  },
  {
   "cell_type": "code",
   "execution_count": 5,
   "metadata": {},
   "outputs": [
    {
     "data": {
      "text/plain": [
       "[1, 1, 2, 3, 5, 8, 13, 21, 34, 55, 89, 144, 233, 377, 610]"
      ]
     },
     "execution_count": 5,
     "metadata": {},
     "output_type": "execute_result"
    }
   ],
   "source": [
    "[Fib_loop(i) for i in range(15)]"
   ]
  },
  {
   "cell_type": "markdown",
   "metadata": {},
   "source": [
    "## Part 2:\n",
    "\n",
    "The number of function calls can grow much larger when using recursion."
   ]
  },
  {
   "cell_type": "markdown",
   "metadata": {},
   "source": [
    "## Part 3:\n"
   ]
  },
  {
   "cell_type": "code",
   "execution_count": 6,
   "metadata": {},
   "outputs": [],
   "source": [
    "import time "
   ]
  },
  {
   "cell_type": "code",
   "execution_count": 7,
   "metadata": {},
   "outputs": [],
   "source": [
    "def timer(n, k, f=Fib_rec):\n",
    "    ti = time.time()\n",
    "    _ = [f(n) for _ in range(k)]\n",
    "    tf = time.time()\n",
    "    return (tf - ti) / k"
   ]
  },
  {
   "cell_type": "code",
   "execution_count": 8,
   "metadata": {},
   "outputs": [
    {
     "data": {
      "text/plain": [
       "(1.926422119140625e-05, 9.72747802734375e-07)"
      ]
     },
     "execution_count": 8,
     "metadata": {},
     "output_type": "execute_result"
    }
   ],
   "source": [
    "timer(10, 50, Fib_rec), timer(10, 50, Fib_loop)"
   ]
  },
  {
   "cell_type": "markdown",
   "metadata": {},
   "source": [
    "## Part 4:\n"
   ]
  },
  {
   "cell_type": "code",
   "execution_count": 9,
   "metadata": {},
   "outputs": [],
   "source": [
    "k = 20\n",
    "t = []\n",
    "for n in range(25):\n",
    "    t_rec = timer(n, k=k, f=Fib_rec)\n",
    "    t_loop = timer(n, k=k, f=Fib_loop) \n",
    "    t += [[n, t_rec, t_loop]]"
   ]
  },
  {
   "cell_type": "code",
   "execution_count": 10,
   "metadata": {},
   "outputs": [],
   "source": [
    "t = np.array(t)"
   ]
  },
  {
   "cell_type": "code",
   "execution_count": 11,
   "metadata": {},
   "outputs": [
    {
     "data": {
      "image/png": "[encoded data removed]",
      "text/plain": [
       "<Figure size 648x432 with 1 Axes>"
      ]
     },
     "metadata": {
      "needs_background": "light"
     },
     "output_type": "display_data"
    }
   ],
   "source": [
    "fig = plt.figure(figsize=(9, 6))\n",
    "ax = fig.add_subplot(1, 1, 1)\n",
    "ax.plot(t[:, 0], t[:, 1], label=r\"Recursive Fibonacci\", lw=2)\n",
    "ax.plot(t[:, 0], t[:, 2], label=r\"Iterative Fibonacci\", lw=2)\n",
    "\n",
    "\n",
    "plt.tick_params(labelsize=25)\n",
    "\n",
    "plt.xlabel(r\"Fibonacci number index\", fontsize=32)\n",
    "plt.ylabel(r\"Average time [s]\", fontsize=32)\n",
    "\n",
    "\n",
    "ax.legend(frameon=False, fontsize=28)\n",
    "plt.show()"
   ]
  },
  {
   "cell_type": "markdown",
   "metadata": {},
   "source": [
    "---\n",
    "# Problem 2:\n",
    "\n",
    "### 0.4 point"
   ]
  },
  {
   "cell_type": "markdown",
   "metadata": {},
   "source": [
    "\\begin{equation*}\n",
    "   M = \\begin{pmatrix} \n",
    "1 & -4 & 2 \\\\\n",
    "-4 & 1 & -2 \\\\\n",
    "2 & -2 & -2 \n",
    "\\end{pmatrix}\n",
    "\\end{equation*}"
   ]
  },
  {
   "cell_type": "markdown",
   "metadata": {},
   "source": [
    "## Part 1:\n",
    "\n",
    "\n",
    "$$\\det(M) = 54$$\n",
    "\n",
    "\\begin{equation*}\n",
    "   M^T = \\begin{pmatrix} \n",
    "1 & -4 & 2 \\\\\n",
    "-4 & 1 & -2 \\\\\n",
    "2 & -2 & -2 \n",
    "\\end{pmatrix} = M\n",
    "\\end{equation*}\n",
    "\n",
    "\n",
    "\\begin{equation*}\n",
    "   M^{-1} = \\frac{1}{54} \\begin{pmatrix} \n",
    " -6 & -12 &  6\\\\\n",
    " -12& -6 & -6 \\\\\n",
    " 6 & -6 & -15 \n",
    "\\end{pmatrix} \n",
    "\\end{equation*}\n",
    "\n",
    "\n"
   ]
  },
  {
   "cell_type": "markdown",
   "metadata": {},
   "source": [
    "## Part 2:\n",
    "\n",
    "\n",
    "Eigenvalues from $\\det(M - \\lambda I) = 0$ are:\n",
    "$$\\lambda = -3, -3, 6$$\n",
    "\n",
    "\n",
    "\\begin{equation*}\n",
    "\\lambda = 6 \\to \n",
    "   \\vec{v} = \\begin{pmatrix} \n",
    " 2 \\\\\n",
    " -2\\\\\n",
    " 1 \n",
    "\\end{pmatrix} \n",
    "\\end{equation*}\n",
    "\n",
    "Since $\\lambda=-3$ is degenerate we have a eigenspace (eigenplane), also there is not uniqes solution for these vector and any two linearly independent vectors in this space is another solution:\n",
    "\\begin{equation*}\n",
    "\\lambda = -3 \\to \n",
    "   \\text{Span}\\{\n",
    "   \\begin{pmatrix} \n",
    " 1 \\\\\n",
    " 1\\\\\n",
    " 0 \n",
    "\\end{pmatrix},\n",
    "\\begin{pmatrix} \n",
    " -\\frac{1}{2}\\\\\n",
    " 0\\\\\n",
    " 1 \n",
    "\\end{pmatrix} \\}\n",
    "\\end{equation*}\n",
    "\n"
   ]
  },
  {
   "cell_type": "markdown",
   "metadata": {},
   "source": [
    "## Part 3:\n",
    "\n",
    "\\begin{equation*}\n",
    "\tA=\\begin{pmatrix} \n",
    "\tx_{11} & x_{12} & x_{13} \\\\\n",
    "\tx_{21} & x_{22} & x_{23} \\\\\n",
    "\tx_{31} & x_{32} & x_{33} \n",
    "\t\\end{pmatrix}\n",
    "  \\end{equation*}\n",
    "  \\begin{equation*}\n",
    "   f(A)= x_{11}^2 x_{22} x_{23} + x_{11}x_{12}x_{13}x_{31}-x_{33}^2 x_{32} x_{21}\n",
    "   \\end{equation*}"
   ]
  },
  {
   "cell_type": "markdown",
   "metadata": {},
   "source": [
    "$\\nabla_A f(A) = ?$\n",
    "\n",
    "\\begin{equation*}\n",
    "A=\\begin{pmatrix} \n",
    "\\frac{\\partial f}{\\partial x_{11}} &  \\frac{\\partial f}{\\partial x_{12}} & \\frac{\\partial f}{\\partial x_{13}}  \\\\\n",
    "\\frac{\\partial f}{\\partial x_{21}} & \\frac{\\partial f}{\\partial x_{22}} & \\frac{\\partial f}{\\partial x_{23}} \\\\\n",
    "\\frac{\\partial f}{\\partial x_{31}} & \\frac{\\partial f}{\\partial x_{32}} & \\frac{\\partial f}{\\partial x_{33}} \\\\\n",
    "\\end{pmatrix} =  \n",
    "\\begin{pmatrix}\n",
    "2x_{11}x_{22}x_{23} + x_{12}x_{13}x_{31} & x_{11} x_{13} x_{31} & x_{11}x_{12}x_{31} \\\\\n",
    "-x_{33}^2 x_{32} & x_{11}^2x_{23} & x_{11}^2x_{22} \\\\\n",
    "x_{11}x_{12}x_{13} & -x_{33}^2 x_{21} & -2 x_{33} x_{32} x_{21} \\\\\n",
    "\\end{pmatrix}\n",
    "  \\end{equation*}"
   ]
  },
  {
   "cell_type": "markdown",
   "metadata": {},
   "source": [
    "## Part 4:\n",
    "\n",
    "\\begin{equation*}\n",
    "H(g)=\\begin{pmatrix} \n",
    "\\frac{\\partial^2 g}{\\partial x^2} & \\frac{\\partial^2 g}{\\partial x \\partial y} & \\frac{\\partial^2 g}{\\partial x \\partial z} \\\\\n",
    "\\frac{\\partial^2 g}{\\partial y \\partial x} & \\frac{\\partial^2 g}{\\partial y^2} & \\frac{\\partial^2 g}{\\partial y \\partial z} \\\\\n",
    "\\frac{\\partial^2 g}{\\partial z \\partial x} & \\frac{\\partial^2 g}{\\partial z \\partial y} & \\frac{\\partial^2 g}{\\partial z^2} \\\\\n",
    "\\end{pmatrix} = \\begin{pmatrix} \n",
    "6xy - yz\\sin{x} & 3x^2 + z\\cos{x} + 2y z^5 & y \\cos{x} +5y^2 z^4\\\\\n",
    "3x^2 + z\\cos{x} + 2y z^5 & 2xz^5 & \\sin{x} + 10xyz^4 \\\\\n",
    "y \\cos{x} +5y^2 z^4 & \\sin{x} + 10xyz^4  & 20xy^2 z^3\\\\\n",
    "\\end{pmatrix} \n",
    " \\end{equation*}\n"
   ]
  },
  {
   "cell_type": "markdown",
   "metadata": {},
   "source": [
    "----"
   ]
  },
  {
   "cell_type": "markdown",
   "metadata": {},
   "source": [
    "# Problem 3:\n",
    "\n",
    "### 0.2 point\n",
    "\n",
    "---"
   ]
  }
 ],
 "metadata": {
  "kernelspec": {
   "display_name": "Python 3",
   "language": "python",
   "name": "python3"
  },
  "language_info": {
   "codemirror_mode": {
    "name": "ipython",
    "version": 3
   },
   "file_extension": ".py",
   "mimetype": "text/x-python",
   "name": "python",
   "nbconvert_exporter": "python",
   "pygments_lexer": "ipython3",
   "version": "3.9.4"
  }
 },
 "nbformat": 4,
 "nbformat_minor": 4
}
