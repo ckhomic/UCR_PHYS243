{
 "cells": [
  {
   "cell_type": "markdown",
   "metadata": {},
   "source": [
    "# PHYS243 Midterm Project\n",
    "# ChiKit Ho ID# 862191050"
   ]
  },
  {
   "cell_type": "code",
   "execution_count": 5,
   "metadata": {},
   "outputs": [],
   "source": [
    "#Import libraries\n",
    "import numpy as np\n",
    "import matplotlib.pyplot as plt\n",
    "import pandas as pd\n",
    "import seaborn as sns\n",
    "\n",
    "from sklearn.model_selection import train_test_split"
   ]
  },
  {
   "cell_type": "markdown",
   "metadata": {},
   "source": [
    "Teaching Assistant Evvaluation Data Set"
   ]
  },
  {
   "cell_type": "markdown",
   "metadata": {},
   "source": [
    "1. Reading the dataset and exporting it into your workflow."
   ]
  },
  {
   "cell_type": "code",
   "execution_count": 6,
   "metadata": {},
   "outputs": [],
   "source": [
    "#Import data\n",
    "url='https://raw.githubusercontent.com/abtinshahidi/Foundation_applied_machine_learning/master/midterm/data_sets/3_TA_evaluation/tae.data'\n",
    "df=pd.read_csv(url,sep=',',header=None)"
   ]
  },
  {
   "cell_type": "code",
   "execution_count": 7,
   "metadata": {},
   "outputs": [
    {
     "data": {
      "text/html": [
       "<div>\n",
       "<style scoped>\n",
       "    .dataframe tbody tr th:only-of-type {\n",
       "        vertical-align: middle;\n",
       "    }\n",
       "\n",
       "    .dataframe tbody tr th {\n",
       "        vertical-align: top;\n",
       "    }\n",
       "\n",
       "    .dataframe thead th {\n",
       "        text-align: right;\n",
       "    }\n",
       "</style>\n",
       "<table border=\"1\" class=\"dataframe\">\n",
       "  <thead>\n",
       "    <tr style=\"text-align: right;\">\n",
       "      <th></th>\n",
       "      <th>0</th>\n",
       "      <th>1</th>\n",
       "      <th>2</th>\n",
       "      <th>3</th>\n",
       "      <th>4</th>\n",
       "      <th>5</th>\n",
       "    </tr>\n",
       "  </thead>\n",
       "  <tbody>\n",
       "    <tr>\n",
       "      <th>0</th>\n",
       "      <td>1</td>\n",
       "      <td>23</td>\n",
       "      <td>3</td>\n",
       "      <td>1</td>\n",
       "      <td>19</td>\n",
       "      <td>3</td>\n",
       "    </tr>\n",
       "    <tr>\n",
       "      <th>1</th>\n",
       "      <td>2</td>\n",
       "      <td>15</td>\n",
       "      <td>3</td>\n",
       "      <td>1</td>\n",
       "      <td>17</td>\n",
       "      <td>3</td>\n",
       "    </tr>\n",
       "    <tr>\n",
       "      <th>2</th>\n",
       "      <td>1</td>\n",
       "      <td>23</td>\n",
       "      <td>3</td>\n",
       "      <td>2</td>\n",
       "      <td>49</td>\n",
       "      <td>3</td>\n",
       "    </tr>\n",
       "    <tr>\n",
       "      <th>3</th>\n",
       "      <td>1</td>\n",
       "      <td>5</td>\n",
       "      <td>2</td>\n",
       "      <td>2</td>\n",
       "      <td>33</td>\n",
       "      <td>3</td>\n",
       "    </tr>\n",
       "    <tr>\n",
       "      <th>4</th>\n",
       "      <td>2</td>\n",
       "      <td>7</td>\n",
       "      <td>11</td>\n",
       "      <td>2</td>\n",
       "      <td>55</td>\n",
       "      <td>3</td>\n",
       "    </tr>\n",
       "    <tr>\n",
       "      <th>...</th>\n",
       "      <td>...</td>\n",
       "      <td>...</td>\n",
       "      <td>...</td>\n",
       "      <td>...</td>\n",
       "      <td>...</td>\n",
       "      <td>...</td>\n",
       "    </tr>\n",
       "    <tr>\n",
       "      <th>146</th>\n",
       "      <td>2</td>\n",
       "      <td>3</td>\n",
       "      <td>2</td>\n",
       "      <td>2</td>\n",
       "      <td>26</td>\n",
       "      <td>1</td>\n",
       "    </tr>\n",
       "    <tr>\n",
       "      <th>147</th>\n",
       "      <td>2</td>\n",
       "      <td>10</td>\n",
       "      <td>3</td>\n",
       "      <td>2</td>\n",
       "      <td>12</td>\n",
       "      <td>1</td>\n",
       "    </tr>\n",
       "    <tr>\n",
       "      <th>148</th>\n",
       "      <td>1</td>\n",
       "      <td>18</td>\n",
       "      <td>7</td>\n",
       "      <td>2</td>\n",
       "      <td>48</td>\n",
       "      <td>1</td>\n",
       "    </tr>\n",
       "    <tr>\n",
       "      <th>149</th>\n",
       "      <td>2</td>\n",
       "      <td>22</td>\n",
       "      <td>1</td>\n",
       "      <td>2</td>\n",
       "      <td>51</td>\n",
       "      <td>1</td>\n",
       "    </tr>\n",
       "    <tr>\n",
       "      <th>150</th>\n",
       "      <td>2</td>\n",
       "      <td>2</td>\n",
       "      <td>10</td>\n",
       "      <td>2</td>\n",
       "      <td>27</td>\n",
       "      <td>1</td>\n",
       "    </tr>\n",
       "  </tbody>\n",
       "</table>\n",
       "<p>151 rows × 6 columns</p>\n",
       "</div>"
      ],
      "text/plain": [
       "     0   1   2  3   4  5\n",
       "0    1  23   3  1  19  3\n",
       "1    2  15   3  1  17  3\n",
       "2    1  23   3  2  49  3\n",
       "3    1   5   2  2  33  3\n",
       "4    2   7  11  2  55  3\n",
       "..  ..  ..  .. ..  .. ..\n",
       "146  2   3   2  2  26  1\n",
       "147  2  10   3  2  12  1\n",
       "148  1  18   7  2  48  1\n",
       "149  2  22   1  2  51  1\n",
       "150  2   2  10  2  27  1\n",
       "\n",
       "[151 rows x 6 columns]"
      ]
     },
     "execution_count": 7,
     "metadata": {},
     "output_type": "execute_result"
    }
   ],
   "source": [
    "#Check dataset\n",
    "df"
   ]
  },
  {
   "cell_type": "code",
   "execution_count": 8,
   "metadata": {},
   "outputs": [
    {
     "data": {
      "text/plain": [
       "(151, 6)"
      ]
     },
     "execution_count": 8,
     "metadata": {},
     "output_type": "execute_result"
    }
   ],
   "source": [
    "#Check dimension of the dataset\n",
    "df.shape"
   ]
  },
  {
   "cell_type": "markdown",
   "metadata": {},
   "source": [
    "2. Understanding and explanning the dataset, what are the different attributes of each data point."
   ]
  },
  {
   "cell_type": "markdown",
   "metadata": {},
   "source": [
    "A dataframe, df with 151 rows and 6 columns is read, which match with the readme.data as it mentions the number of instances are 151 and number of attributes are 6.\n",
    "\n",
    "There are 6 attributes in the dataset,\n",
    "\n",
    "1. If TA is a native English speaker or not (Binary, 1=English Speaker, 2=non English Speaker)\n",
    "2. Course Instructor (Categorical, 25 Categories)\n",
    "3. Course (Categorical, 26 Catergories)\n",
    "4. Summer or Regular Semester (Binary, 1=Summer, 2=Regular)\n",
    "5. Class Size (numerical)\n",
    "6. Class attribute (Categorical, 1=Low, 2=Medium, 3=High)"
   ]
  },
  {
   "cell_type": "markdown",
   "metadata": {},
   "source": [
    "The Output (Labels) is the class attribute (Columne 6) and there are 5 features (Column 1-5). I am going to build a supervised machine learning model. But before building the model, I need to process, cleaning up and understanding the data first."
   ]
  },
  {
   "cell_type": "code",
   "execution_count": 9,
   "metadata": {},
   "outputs": [
    {
     "data": {
      "text/html": [
       "<div>\n",
       "<style scoped>\n",
       "    .dataframe tbody tr th:only-of-type {\n",
       "        vertical-align: middle;\n",
       "    }\n",
       "\n",
       "    .dataframe tbody tr th {\n",
       "        vertical-align: top;\n",
       "    }\n",
       "\n",
       "    .dataframe thead th {\n",
       "        text-align: right;\n",
       "    }\n",
       "</style>\n",
       "<table border=\"1\" class=\"dataframe\">\n",
       "  <thead>\n",
       "    <tr style=\"text-align: right;\">\n",
       "      <th></th>\n",
       "      <th>Native</th>\n",
       "      <th>Instructor</th>\n",
       "      <th>Course</th>\n",
       "      <th>Semester</th>\n",
       "      <th>Size</th>\n",
       "      <th>Result</th>\n",
       "    </tr>\n",
       "  </thead>\n",
       "  <tbody>\n",
       "    <tr>\n",
       "      <th>0</th>\n",
       "      <td>1</td>\n",
       "      <td>23</td>\n",
       "      <td>3</td>\n",
       "      <td>1</td>\n",
       "      <td>19</td>\n",
       "      <td>3</td>\n",
       "    </tr>\n",
       "    <tr>\n",
       "      <th>1</th>\n",
       "      <td>2</td>\n",
       "      <td>15</td>\n",
       "      <td>3</td>\n",
       "      <td>1</td>\n",
       "      <td>17</td>\n",
       "      <td>3</td>\n",
       "    </tr>\n",
       "    <tr>\n",
       "      <th>2</th>\n",
       "      <td>1</td>\n",
       "      <td>23</td>\n",
       "      <td>3</td>\n",
       "      <td>2</td>\n",
       "      <td>49</td>\n",
       "      <td>3</td>\n",
       "    </tr>\n",
       "    <tr>\n",
       "      <th>3</th>\n",
       "      <td>1</td>\n",
       "      <td>5</td>\n",
       "      <td>2</td>\n",
       "      <td>2</td>\n",
       "      <td>33</td>\n",
       "      <td>3</td>\n",
       "    </tr>\n",
       "    <tr>\n",
       "      <th>4</th>\n",
       "      <td>2</td>\n",
       "      <td>7</td>\n",
       "      <td>11</td>\n",
       "      <td>2</td>\n",
       "      <td>55</td>\n",
       "      <td>3</td>\n",
       "    </tr>\n",
       "    <tr>\n",
       "      <th>...</th>\n",
       "      <td>...</td>\n",
       "      <td>...</td>\n",
       "      <td>...</td>\n",
       "      <td>...</td>\n",
       "      <td>...</td>\n",
       "      <td>...</td>\n",
       "    </tr>\n",
       "    <tr>\n",
       "      <th>146</th>\n",
       "      <td>2</td>\n",
       "      <td>3</td>\n",
       "      <td>2</td>\n",
       "      <td>2</td>\n",
       "      <td>26</td>\n",
       "      <td>1</td>\n",
       "    </tr>\n",
       "    <tr>\n",
       "      <th>147</th>\n",
       "      <td>2</td>\n",
       "      <td>10</td>\n",
       "      <td>3</td>\n",
       "      <td>2</td>\n",
       "      <td>12</td>\n",
       "      <td>1</td>\n",
       "    </tr>\n",
       "    <tr>\n",
       "      <th>148</th>\n",
       "      <td>1</td>\n",
       "      <td>18</td>\n",
       "      <td>7</td>\n",
       "      <td>2</td>\n",
       "      <td>48</td>\n",
       "      <td>1</td>\n",
       "    </tr>\n",
       "    <tr>\n",
       "      <th>149</th>\n",
       "      <td>2</td>\n",
       "      <td>22</td>\n",
       "      <td>1</td>\n",
       "      <td>2</td>\n",
       "      <td>51</td>\n",
       "      <td>1</td>\n",
       "    </tr>\n",
       "    <tr>\n",
       "      <th>150</th>\n",
       "      <td>2</td>\n",
       "      <td>2</td>\n",
       "      <td>10</td>\n",
       "      <td>2</td>\n",
       "      <td>27</td>\n",
       "      <td>1</td>\n",
       "    </tr>\n",
       "  </tbody>\n",
       "</table>\n",
       "<p>151 rows × 6 columns</p>\n",
       "</div>"
      ],
      "text/plain": [
       "     Native  Instructor  Course  Semester  Size  Result\n",
       "0         1          23       3         1    19       3\n",
       "1         2          15       3         1    17       3\n",
       "2         1          23       3         2    49       3\n",
       "3         1           5       2         2    33       3\n",
       "4         2           7      11         2    55       3\n",
       "..      ...         ...     ...       ...   ...     ...\n",
       "146       2           3       2         2    26       1\n",
       "147       2          10       3         2    12       1\n",
       "148       1          18       7         2    48       1\n",
       "149       2          22       1         2    51       1\n",
       "150       2           2      10         2    27       1\n",
       "\n",
       "[151 rows x 6 columns]"
      ]
     },
     "execution_count": 9,
     "metadata": {},
     "output_type": "execute_result"
    }
   ],
   "source": [
    "#Adding column names (features) to df\n",
    "Columns=['Native','Instructor','Course','Semester','Size','Result']\n",
    "df.columns=Columns\n",
    "df"
   ]
  },
  {
   "cell_type": "code",
   "execution_count": 10,
   "metadata": {},
   "outputs": [
    {
     "data": {
      "text/plain": [
       "Native        0\n",
       "Instructor    0\n",
       "Course        0\n",
       "Semester      0\n",
       "Size          0\n",
       "Result        0\n",
       "dtype: int64"
      ]
     },
     "execution_count": 10,
     "metadata": {},
     "output_type": "execute_result"
    }
   ],
   "source": [
    "#Check is there is a null value\n",
    "df.isnull().sum()"
   ]
  },
  {
   "cell_type": "markdown",
   "metadata": {},
   "source": [
    "There is no null/missing value in the dataset."
   ]
  },
  {
   "cell_type": "markdown",
   "metadata": {},
   "source": [
    "Exploring the Data"
   ]
  },
  {
   "cell_type": "markdown",
   "metadata": {},
   "source": [
    "A. Native English Speaker"
   ]
  },
  {
   "cell_type": "code",
   "execution_count": 11,
   "metadata": {},
   "outputs": [
    {
     "data": {
      "text/plain": [
       "2    122\n",
       "1     29\n",
       "Name: Native, dtype: int64"
      ]
     },
     "execution_count": 11,
     "metadata": {},
     "output_type": "execute_result"
    }
   ],
   "source": [
    "#Count the numbers of Native and non-natvie English speaking TA\n",
    "df.Native.value_counts()"
   ]
  },
  {
   "cell_type": "code",
   "execution_count": 12,
   "metadata": {},
   "outputs": [
    {
     "data": {
      "text/plain": [
       "<matplotlib.axes._subplots.AxesSubplot at 0x2cb696f9748>"
      ]
     },
     "execution_count": 12,
     "metadata": {},
     "output_type": "execute_result"
    },
    {
     "data": {
      "image/png": "[encoded data removed]",
      "text/plain": [
       "<Figure size 432x288 with 1 Axes>"
      ]
     },
     "metadata": {
      "needs_background": "light"
     },
     "output_type": "display_data"
    }
   ],
   "source": [
    "#shown results in bar charts\n",
    "sns.countplot(x=\"Native\",data=df)"
   ]
  },
  {
   "cell_type": "markdown",
   "metadata": {},
   "source": [
    "From the above, graph, There are 122 TA who are non-English speakers while there are only 29 TA who are English speakers."
   ]
  },
  {
   "cell_type": "code",
   "execution_count": 13,
   "metadata": {},
   "outputs": [
    {
     "data": {
      "text/plain": [
       "<matplotlib.axes._subplots.AxesSubplot at 0x2cb69f9a908>"
      ]
     },
     "execution_count": 13,
     "metadata": {},
     "output_type": "execute_result"
    },
    {
     "data": {
      "image/png": "[encoded data removed]",
      "text/plain": [
       "<Figure size 432x288 with 1 Axes>"
      ]
     },
     "metadata": {
      "needs_background": "light"
     },
     "output_type": "display_data"
    }
   ],
   "source": [
    "#Bart chart of the Results \n",
    "sns.countplot(x=\"Native\",hue=\"Result\",data=df,)"
   ]
  },
  {
   "cell_type": "markdown",
   "metadata": {},
   "source": [
    "From the graph above, we can notice that there is a higher chance for the English speaking TA to achieve a '3' ('High') while the non-English speaking TA has less chanes to achieve a '3'."
   ]
  },
  {
   "cell_type": "markdown",
   "metadata": {},
   "source": [
    "B. Instructor"
   ]
  },
  {
   "cell_type": "code",
   "execution_count": 14,
   "metadata": {},
   "outputs": [
    {
     "data": {
      "text/plain": [
       "23    17\n",
       "13    14\n",
       "22    12\n",
       "7     11\n",
       "10     8\n",
       "18     8\n",
       "6      8\n",
       "15     8\n",
       "14     8\n",
       "9      8\n",
       "5      6\n",
       "20     5\n",
       "8      5\n",
       "2      4\n",
       "25     4\n",
       "16     4\n",
       "17     4\n",
       "1      4\n",
       "11     3\n",
       "12     2\n",
       "4      2\n",
       "3      2\n",
       "21     2\n",
       "24     1\n",
       "19     1\n",
       "Name: Instructor, dtype: int64"
      ]
     },
     "execution_count": 14,
     "metadata": {},
     "output_type": "execute_result"
    }
   ],
   "source": [
    "df.Instructor.value_counts()"
   ]
  },
  {
   "cell_type": "code",
   "execution_count": 15,
   "metadata": {},
   "outputs": [
    {
     "data": {
      "text/plain": [
       "<matplotlib.axes._subplots.AxesSubplot at 0x2cb6a0231c8>"
      ]
     },
     "execution_count": 15,
     "metadata": {},
     "output_type": "execute_result"
    },
    {
     "data": {
      "image/png": "[encoded data removed]",
      "text/plain": [
       "<Figure size 1152x432 with 1 Axes>"
      ]
     },
     "metadata": {
      "needs_background": "light"
     },
     "output_type": "display_data"
    }
   ],
   "source": [
    "plt.figure(figsize=(16,6))\n",
    "sns.countplot(x=\"Instructor\",data=df)"
   ]
  },
  {
   "cell_type": "markdown",
   "metadata": {},
   "source": [
    "The distribution of the instructor is quite even"
   ]
  },
  {
   "cell_type": "markdown",
   "metadata": {},
   "source": [
    "C. Course"
   ]
  },
  {
   "cell_type": "code",
   "execution_count": 16,
   "metadata": {},
   "outputs": [
    {
     "data": {
      "text/plain": [
       "3     45\n",
       "2     16\n",
       "1     14\n",
       "15    10\n",
       "17    10\n",
       "11     9\n",
       "7      7\n",
       "5      5\n",
       "8      4\n",
       "9      3\n",
       "25     3\n",
       "13     3\n",
       "16     3\n",
       "21     3\n",
       "22     3\n",
       "18     2\n",
       "6      2\n",
       "14     1\n",
       "12     1\n",
       "10     1\n",
       "19     1\n",
       "20     1\n",
       "4      1\n",
       "23     1\n",
       "24     1\n",
       "26     1\n",
       "Name: Course, dtype: int64"
      ]
     },
     "execution_count": 16,
     "metadata": {},
     "output_type": "execute_result"
    }
   ],
   "source": [
    "df.Course.value_counts()"
   ]
  },
  {
   "cell_type": "code",
   "execution_count": 17,
   "metadata": {},
   "outputs": [
    {
     "data": {
      "text/plain": [
       "<matplotlib.axes._subplots.AxesSubplot at 0x2cb6a03bd08>"
      ]
     },
     "execution_count": 17,
     "metadata": {},
     "output_type": "execute_result"
    },
    {
     "data": {
      "image/png": "[encoded data removed]",
      "text/plain": [
       "<Figure size 1152x432 with 1 Axes>"
      ]
     },
     "metadata": {
      "needs_background": "light"
     },
     "output_type": "display_data"
    }
   ],
   "source": [
    "plt.figure(figsize=(16,6))\n",
    "sns.countplot(x=\"Course\",data=df)"
   ]
  },
  {
   "cell_type": "markdown",
   "metadata": {},
   "source": [
    "There is a significantly high number of students who enroll course number 3"
   ]
  },
  {
   "cell_type": "markdown",
   "metadata": {},
   "source": [
    "D. Semester"
   ]
  },
  {
   "cell_type": "code",
   "execution_count": 18,
   "metadata": {},
   "outputs": [
    {
     "data": {
      "text/plain": [
       "2    128\n",
       "1     23\n",
       "Name: Semester, dtype: int64"
      ]
     },
     "execution_count": 18,
     "metadata": {},
     "output_type": "execute_result"
    }
   ],
   "source": [
    "df.Semester.value_counts()"
   ]
  },
  {
   "cell_type": "code",
   "execution_count": 19,
   "metadata": {},
   "outputs": [
    {
     "data": {
      "text/plain": [
       "<matplotlib.axes._subplots.AxesSubplot at 0x2cb6a205d48>"
      ]
     },
     "execution_count": 19,
     "metadata": {},
     "output_type": "execute_result"
    },
    {
     "data": {
      "image/png": "[encoded data removed]",
      "text/plain": [
       "<Figure size 432x288 with 1 Axes>"
      ]
     },
     "metadata": {
      "needs_background": "light"
     },
     "output_type": "display_data"
    }
   ],
   "source": [
    "sns.countplot(x=\"Semester\",data=df)"
   ]
  },
  {
   "cell_type": "markdown",
   "metadata": {},
   "source": [
    "From the graph above, 128 TA evluation is done in the Regular sesmester and ony 23 evluation is done in the Summer Semester"
   ]
  },
  {
   "cell_type": "code",
   "execution_count": 20,
   "metadata": {},
   "outputs": [
    {
     "data": {
      "text/plain": [
       "<matplotlib.axes._subplots.AxesSubplot at 0x2cb6a26be48>"
      ]
     },
     "execution_count": 20,
     "metadata": {},
     "output_type": "execute_result"
    },
    {
     "data": {
      "image/png": "[encoded data removed]",
      "text/plain": [
       "<Figure size 432x288 with 1 Axes>"
      ]
     },
     "metadata": {
      "needs_background": "light"
     },
     "output_type": "display_data"
    }
   ],
   "source": [
    "sns.countplot(x=\"Semester\",hue=\"Result\",data=df,)"
   ]
  },
  {
   "cell_type": "markdown",
   "metadata": {},
   "source": [
    "Students who enroll in summer semester have a higher chance to give a 3 ('High') rating than the regular semester while students in regular semester rate more TA a 1 ('Low')."
   ]
  },
  {
   "cell_type": "markdown",
   "metadata": {},
   "source": [
    "E. Class Size"
   ]
  },
  {
   "cell_type": "code",
   "execution_count": 21,
   "metadata": {},
   "outputs": [
    {
     "data": {
      "text/plain": [
       "19    11\n",
       "20    11\n",
       "27     7\n",
       "42     7\n",
       "10     6\n",
       "17     6\n",
       "29     6\n",
       "31     6\n",
       "38     6\n",
       "37     6\n",
       "24     5\n",
       "13     4\n",
       "30     4\n",
       "21     4\n",
       "11     4\n",
       "25     3\n",
       "39     3\n",
       "23     3\n",
       "36     3\n",
       "22     3\n",
       "48     3\n",
       "51     3\n",
       "12     2\n",
       "18     2\n",
       "28     2\n",
       "33     2\n",
       "58     2\n",
       "14     2\n",
       "9      2\n",
       "43     2\n",
       "45     2\n",
       "46     2\n",
       "49     2\n",
       "55     2\n",
       "15     2\n",
       "7      1\n",
       "5      1\n",
       "66     1\n",
       "16     1\n",
       "26     1\n",
       "32     1\n",
       "34     1\n",
       "35     1\n",
       "44     1\n",
       "54     1\n",
       "3      1\n",
       "Name: Size, dtype: int64"
      ]
     },
     "execution_count": 21,
     "metadata": {},
     "output_type": "execute_result"
    }
   ],
   "source": [
    "df.Size.value_counts()"
   ]
  },
  {
   "cell_type": "code",
   "execution_count": 22,
   "metadata": {},
   "outputs": [
    {
     "data": {
      "text/plain": [
       "<matplotlib.axes._subplots.AxesSubplot at 0x2cb6a21c948>"
      ]
     },
     "execution_count": 22,
     "metadata": {},
     "output_type": "execute_result"
    },
    {
     "data": {
      "image/png": "[encoded data removed]",
      "text/plain": [
       "<Figure size 1152x432 with 1 Axes>"
      ]
     },
     "metadata": {
      "needs_background": "light"
     },
     "output_type": "display_data"
    }
   ],
   "source": [
    "plt.figure(figsize=(16,6))\n",
    "sns.countplot(x=\"Size\",data=df)"
   ]
  },
  {
   "cell_type": "markdown",
   "metadata": {},
   "source": [
    "The most common class size are 19-20 students"
   ]
  },
  {
   "cell_type": "markdown",
   "metadata": {},
   "source": [
    "F. Result"
   ]
  },
  {
   "cell_type": "code",
   "execution_count": 23,
   "metadata": {},
   "outputs": [
    {
     "data": {
      "text/plain": [
       "3    52\n",
       "2    50\n",
       "1    49\n",
       "Name: Result, dtype: int64"
      ]
     },
     "execution_count": 23,
     "metadata": {},
     "output_type": "execute_result"
    }
   ],
   "source": [
    "df.Result.value_counts()"
   ]
  },
  {
   "cell_type": "code",
   "execution_count": 24,
   "metadata": {},
   "outputs": [
    {
     "data": {
      "text/plain": [
       "<matplotlib.axes._subplots.AxesSubplot at 0x2cb6a2e7e48>"
      ]
     },
     "execution_count": 24,
     "metadata": {},
     "output_type": "execute_result"
    },
    {
     "data": {
      "image/png": "[encoded data removed]",
      "text/plain": [
       "<Figure size 432x288 with 1 Axes>"
      ]
     },
     "metadata": {
      "needs_background": "light"
     },
     "output_type": "display_data"
    }
   ],
   "source": [
    "sns.countplot(x=\"Result\",data=df,)"
   ]
  },
  {
   "cell_type": "markdown",
   "metadata": {},
   "source": [
    "From the graph above, ther result are roughly equal, which match with the readme.data which it stated \"The scores were divided into 3 roughly equal-sized categories (1='low',2='medium' and 3='high')"
   ]
  },
  {
   "cell_type": "markdown",
   "metadata": {},
   "source": [
    "Processing the data"
   ]
  },
  {
   "cell_type": "markdown",
   "metadata": {},
   "source": [
    "A. Change the data type for ceratin features"
   ]
  },
  {
   "cell_type": "code",
   "execution_count": 25,
   "metadata": {},
   "outputs": [
    {
     "name": "stdout",
     "output_type": "stream",
     "text": [
      "<class 'pandas.core.frame.DataFrame'>\n",
      "RangeIndex: 151 entries, 0 to 150\n",
      "Data columns (total 6 columns):\n",
      " #   Column      Non-Null Count  Dtype\n",
      "---  ------      --------------  -----\n",
      " 0   Native      151 non-null    int64\n",
      " 1   Instructor  151 non-null    int64\n",
      " 2   Course      151 non-null    int64\n",
      " 3   Semester    151 non-null    int64\n",
      " 4   Size        151 non-null    int64\n",
      " 5   Result      151 non-null    int64\n",
      "dtypes: int64(6)\n",
      "memory usage: 7.2 KB\n"
     ]
    }
   ],
   "source": [
    "df.info()"
   ]
  },
  {
   "cell_type": "markdown",
   "metadata": {},
   "source": [
    "From the above information, there is no null values among the dataset, However, the data types for all data are int64 now, so I need to convert the data types from 'Int64' to 'category' for the following columns,\n",
    "\"Native\",\"Instructor\",\"Course\",\"Semester\" and \"Result\"."
   ]
  },
  {
   "cell_type": "code",
   "execution_count": 26,
   "metadata": {},
   "outputs": [],
   "source": [
    "#Convert data type\n",
    "#Convert from int64 to category\n",
    "df2=df\n",
    "df2['Instructor']=df2['Instructor'].astype('category')\n",
    "df2['Course']=df2['Course'].astype('category')\n",
    "df2['Result']=df2['Result'].astype('category')\n",
    "df2['Native']=df2['Native'].astype('category')\n",
    "df2['Semester']=df2['Semester'].astype('category')"
   ]
  },
  {
   "cell_type": "code",
   "execution_count": 27,
   "metadata": {},
   "outputs": [
    {
     "data": {
      "text/html": [
       "<div>\n",
       "<style scoped>\n",
       "    .dataframe tbody tr th:only-of-type {\n",
       "        vertical-align: middle;\n",
       "    }\n",
       "\n",
       "    .dataframe tbody tr th {\n",
       "        vertical-align: top;\n",
       "    }\n",
       "\n",
       "    .dataframe thead th {\n",
       "        text-align: right;\n",
       "    }\n",
       "</style>\n",
       "<table border=\"1\" class=\"dataframe\">\n",
       "  <thead>\n",
       "    <tr style=\"text-align: right;\">\n",
       "      <th></th>\n",
       "      <th>Native</th>\n",
       "      <th>Instructor</th>\n",
       "      <th>Course</th>\n",
       "      <th>Semester</th>\n",
       "      <th>Size</th>\n",
       "      <th>Result</th>\n",
       "    </tr>\n",
       "  </thead>\n",
       "  <tbody>\n",
       "    <tr>\n",
       "      <th>0</th>\n",
       "      <td>1</td>\n",
       "      <td>23</td>\n",
       "      <td>3</td>\n",
       "      <td>1</td>\n",
       "      <td>19</td>\n",
       "      <td>3</td>\n",
       "    </tr>\n",
       "    <tr>\n",
       "      <th>1</th>\n",
       "      <td>2</td>\n",
       "      <td>15</td>\n",
       "      <td>3</td>\n",
       "      <td>1</td>\n",
       "      <td>17</td>\n",
       "      <td>3</td>\n",
       "    </tr>\n",
       "    <tr>\n",
       "      <th>2</th>\n",
       "      <td>1</td>\n",
       "      <td>23</td>\n",
       "      <td>3</td>\n",
       "      <td>2</td>\n",
       "      <td>49</td>\n",
       "      <td>3</td>\n",
       "    </tr>\n",
       "    <tr>\n",
       "      <th>3</th>\n",
       "      <td>1</td>\n",
       "      <td>5</td>\n",
       "      <td>2</td>\n",
       "      <td>2</td>\n",
       "      <td>33</td>\n",
       "      <td>3</td>\n",
       "    </tr>\n",
       "    <tr>\n",
       "      <th>4</th>\n",
       "      <td>2</td>\n",
       "      <td>7</td>\n",
       "      <td>11</td>\n",
       "      <td>2</td>\n",
       "      <td>55</td>\n",
       "      <td>3</td>\n",
       "    </tr>\n",
       "    <tr>\n",
       "      <th>...</th>\n",
       "      <td>...</td>\n",
       "      <td>...</td>\n",
       "      <td>...</td>\n",
       "      <td>...</td>\n",
       "      <td>...</td>\n",
       "      <td>...</td>\n",
       "    </tr>\n",
       "    <tr>\n",
       "      <th>146</th>\n",
       "      <td>2</td>\n",
       "      <td>3</td>\n",
       "      <td>2</td>\n",
       "      <td>2</td>\n",
       "      <td>26</td>\n",
       "      <td>1</td>\n",
       "    </tr>\n",
       "    <tr>\n",
       "      <th>147</th>\n",
       "      <td>2</td>\n",
       "      <td>10</td>\n",
       "      <td>3</td>\n",
       "      <td>2</td>\n",
       "      <td>12</td>\n",
       "      <td>1</td>\n",
       "    </tr>\n",
       "    <tr>\n",
       "      <th>148</th>\n",
       "      <td>1</td>\n",
       "      <td>18</td>\n",
       "      <td>7</td>\n",
       "      <td>2</td>\n",
       "      <td>48</td>\n",
       "      <td>1</td>\n",
       "    </tr>\n",
       "    <tr>\n",
       "      <th>149</th>\n",
       "      <td>2</td>\n",
       "      <td>22</td>\n",
       "      <td>1</td>\n",
       "      <td>2</td>\n",
       "      <td>51</td>\n",
       "      <td>1</td>\n",
       "    </tr>\n",
       "    <tr>\n",
       "      <th>150</th>\n",
       "      <td>2</td>\n",
       "      <td>2</td>\n",
       "      <td>10</td>\n",
       "      <td>2</td>\n",
       "      <td>27</td>\n",
       "      <td>1</td>\n",
       "    </tr>\n",
       "  </tbody>\n",
       "</table>\n",
       "<p>151 rows × 6 columns</p>\n",
       "</div>"
      ],
      "text/plain": [
       "    Native Instructor Course Semester  Size Result\n",
       "0        1         23      3        1    19      3\n",
       "1        2         15      3        1    17      3\n",
       "2        1         23      3        2    49      3\n",
       "3        1          5      2        2    33      3\n",
       "4        2          7     11        2    55      3\n",
       "..     ...        ...    ...      ...   ...    ...\n",
       "146      2          3      2        2    26      1\n",
       "147      2         10      3        2    12      1\n",
       "148      1         18      7        2    48      1\n",
       "149      2         22      1        2    51      1\n",
       "150      2          2     10        2    27      1\n",
       "\n",
       "[151 rows x 6 columns]"
      ]
     },
     "execution_count": 27,
     "metadata": {},
     "output_type": "execute_result"
    }
   ],
   "source": [
    "df2"
   ]
  },
  {
   "cell_type": "code",
   "execution_count": 28,
   "metadata": {},
   "outputs": [
    {
     "name": "stdout",
     "output_type": "stream",
     "text": [
      "<class 'pandas.core.frame.DataFrame'>\n",
      "RangeIndex: 151 entries, 0 to 150\n",
      "Data columns (total 6 columns):\n",
      " #   Column      Non-Null Count  Dtype   \n",
      "---  ------      --------------  -----   \n",
      " 0   Native      151 non-null    category\n",
      " 1   Instructor  151 non-null    category\n",
      " 2   Course      151 non-null    category\n",
      " 3   Semester    151 non-null    category\n",
      " 4   Size        151 non-null    int64   \n",
      " 5   Result      151 non-null    category\n",
      "dtypes: category(5), int64(1)\n",
      "memory usage: 4.6 KB\n"
     ]
    }
   ],
   "source": [
    "df2.info()"
   ]
  },
  {
   "cell_type": "markdown",
   "metadata": {},
   "source": [
    "Now, the data type of the data set has changed from 5 columns of category and 1 column of int."
   ]
  },
  {
   "cell_type": "markdown",
   "metadata": {},
   "source": [
    "Split the Data into training and test set"
   ]
  },
  {
   "cell_type": "code",
   "execution_count": 29,
   "metadata": {},
   "outputs": [],
   "source": [
    "X=df2.drop(columns=['Result'])\n",
    "y=df2.Result"
   ]
  },
  {
   "cell_type": "code",
   "execution_count": 30,
   "metadata": {},
   "outputs": [],
   "source": [
    "# We use the train_test_split function from the sklearn library\n",
    "# Diving the data set into 70/30 training/testing set\n",
    "# Random_state is set as 100 beause I don't want the training and testing set are different when running the code each time.\n",
    "X_train, X_test, y_train, y_test = train_test_split(X, y, test_size=0.3, random_state=100)"
   ]
  },
  {
   "cell_type": "code",
   "execution_count": 31,
   "metadata": {},
   "outputs": [
    {
     "name": "stdout",
     "output_type": "stream",
     "text": [
      "<class 'pandas.core.frame.DataFrame'>\n",
      "Int64Index: 105 entries, 25 to 8\n",
      "Data columns (total 5 columns):\n",
      " #   Column      Non-Null Count  Dtype   \n",
      "---  ------      --------------  -----   \n",
      " 0   Native      105 non-null    category\n",
      " 1   Instructor  105 non-null    category\n",
      " 2   Course      105 non-null    category\n",
      " 3   Semester    105 non-null    category\n",
      " 4   Size        105 non-null    int64   \n",
      "dtypes: category(4), int64(1)\n",
      "memory usage: 4.5 KB\n"
     ]
    }
   ],
   "source": [
    "#Check the split\n",
    "X_train.info()"
   ]
  },
  {
   "cell_type": "code",
   "execution_count": 32,
   "metadata": {},
   "outputs": [
    {
     "name": "stdout",
     "output_type": "stream",
     "text": [
      "<class 'pandas.core.frame.DataFrame'>\n",
      "Int64Index: 46 entries, 128 to 6\n",
      "Data columns (total 5 columns):\n",
      " #   Column      Non-Null Count  Dtype   \n",
      "---  ------      --------------  -----   \n",
      " 0   Native      46 non-null     category\n",
      " 1   Instructor  46 non-null     category\n",
      " 2   Course      46 non-null     category\n",
      " 3   Semester    46 non-null     category\n",
      " 4   Size        46 non-null     int64   \n",
      "dtypes: category(4), int64(1)\n",
      "memory usage: 3.4 KB\n"
     ]
    }
   ],
   "source": [
    "X_test.info()"
   ]
  },
  {
   "cell_type": "code",
   "execution_count": 33,
   "metadata": {},
   "outputs": [
    {
     "data": {
      "text/plain": [
       "25     2\n",
       "21     2\n",
       "92     3\n",
       "9      3\n",
       "23     2\n",
       "      ..\n",
       "87     3\n",
       "103    2\n",
       "67     1\n",
       "24     2\n",
       "8      3\n",
       "Name: Result, Length: 105, dtype: category\n",
       "Categories (3, int64): [1, 2, 3]"
      ]
     },
     "execution_count": 33,
     "metadata": {},
     "output_type": "execute_result"
    }
   ],
   "source": [
    "y_train"
   ]
  },
  {
   "cell_type": "code",
   "execution_count": 34,
   "metadata": {},
   "outputs": [
    {
     "data": {
      "text/plain": [
       "(46,)"
      ]
     },
     "execution_count": 34,
     "metadata": {},
     "output_type": "execute_result"
    }
   ],
   "source": [
    "y_test.shape"
   ]
  },
  {
   "cell_type": "code",
   "execution_count": 35,
   "metadata": {},
   "outputs": [
    {
     "name": "stdout",
     "output_type": "stream",
     "text": [
      "Shape of X_Training : (105, 5)\n",
      "Shape of y_Training : (105,)\n",
      "Shape of X_Testing : (46, 5)\n",
      "Shape of Y_Testing : (46,)\n"
     ]
    }
   ],
   "source": [
    "#Check the dimension of the X_train, y_train, X_test and y_test\n",
    "print(\"Shape of X_Training :\",X_train.shape)\n",
    "print(\"Shape of y_Training :\",y_train.shape)\n",
    "print(\"Shape of X_Testing :\",X_test.shape)\n",
    "print(\"Shape of Y_Testing :\",y_test.shape)"
   ]
  },
  {
   "cell_type": "markdown",
   "metadata": {},
   "source": [
    "Since this dataset is a superverised maching learning with multi-class classification. Decision Tree is the easiest algorithm for the machine learning fiting."
   ]
  },
  {
   "cell_type": "markdown",
   "metadata": {},
   "source": [
    "A. Decision Tree"
   ]
  },
  {
   "cell_type": "code",
   "execution_count": 36,
   "metadata": {},
   "outputs": [
    {
     "data": {
      "text/plain": [
       "DecisionTreeClassifier(ccp_alpha=0.0, class_weight=None, criterion='gini',\n",
       "                       max_depth=None, max_features=None, max_leaf_nodes=None,\n",
       "                       min_impurity_decrease=0.0, min_impurity_split=None,\n",
       "                       min_samples_leaf=1, min_samples_split=2,\n",
       "                       min_weight_fraction_leaf=0.0, presort='deprecated',\n",
       "                       random_state=100, splitter='best')"
      ]
     },
     "execution_count": 36,
     "metadata": {},
     "output_type": "execute_result"
    }
   ],
   "source": [
    "#Building Decision Tree\n",
    "#We set every parameter as default first\n",
    "from sklearn.tree import DecisionTreeClassifier\n",
    "from sklearn.metrics import f1_score,recall_score,accuracy_score #classification_report,confusion_matrix,precision_score,\n",
    "from sklearn import tree\n",
    "\n",
    "dtc=DecisionTreeClassifier(random_state=100)\n",
    "dtc.fit(X_train,y_train)"
   ]
  },
  {
   "cell_type": "code",
   "execution_count": 37,
   "metadata": {},
   "outputs": [
    {
     "data": {
      "text/plain": [
       "[Text(193.83157894736843, 210.645, 'X[2] <= 6.0\\ngini = 0.662\\nsamples = 105\\nvalue = [29, 39, 37]'),\n",
       " Text(99.85263157894738, 197.055, 'X[0] <= 1.5\\ngini = 0.634\\nsamples = 53\\nvalue = [20, 10, 23]'),\n",
       " Text(46.98947368421053, 183.465, 'X[4] <= 16.0\\ngini = 0.381\\nsamples = 17\\nvalue = [3, 1, 13]'),\n",
       " Text(23.494736842105265, 169.875, 'X[1] <= 17.5\\ngini = 0.444\\nsamples = 3\\nvalue = [2, 1, 0]'),\n",
       " Text(11.747368421052633, 156.285, 'gini = 0.0\\nsamples = 2\\nvalue = [2, 0, 0]'),\n",
       " Text(35.242105263157896, 156.285, 'gini = 0.0\\nsamples = 1\\nvalue = [0, 1, 0]'),\n",
       " Text(70.48421052631579, 169.875, 'X[4] <= 35.5\\ngini = 0.133\\nsamples = 14\\nvalue = [1, 0, 13]'),\n",
       " Text(58.736842105263165, 156.285, 'gini = 0.0\\nsamples = 8\\nvalue = [0, 0, 8]'),\n",
       " Text(82.23157894736843, 156.285, 'X[4] <= 41.5\\ngini = 0.278\\nsamples = 6\\nvalue = [1, 0, 5]'),\n",
       " Text(70.48421052631579, 142.695, 'gini = 0.5\\nsamples = 2\\nvalue = [1, 0, 1]'),\n",
       " Text(93.97894736842106, 142.695, 'gini = 0.0\\nsamples = 4\\nvalue = [0, 0, 4]'),\n",
       " Text(152.71578947368423, 183.465, 'X[3] <= 1.5\\ngini = 0.637\\nsamples = 36\\nvalue = [17, 9, 10]'),\n",
       " Text(117.47368421052633, 169.875, 'X[4] <= 10.5\\ngini = 0.444\\nsamples = 9\\nvalue = [0, 3, 6]'),\n",
       " Text(105.72631578947369, 156.285, 'gini = 0.0\\nsamples = 2\\nvalue = [0, 2, 0]'),\n",
       " Text(129.22105263157897, 156.285, 'X[1] <= 19.0\\ngini = 0.245\\nsamples = 7\\nvalue = [0, 1, 6]'),\n",
       " Text(117.47368421052633, 142.695, 'gini = 0.0\\nsamples = 3\\nvalue = [0, 0, 3]'),\n",
       " Text(140.96842105263158, 142.695, 'gini = 0.375\\nsamples = 4\\nvalue = [0, 1, 3]'),\n",
       " Text(187.95789473684212, 169.875, 'X[4] <= 47.0\\ngini = 0.532\\nsamples = 27\\nvalue = [17, 6, 4]'),\n",
       " Text(176.21052631578948, 156.285, 'X[4] <= 45.5\\ngini = 0.569\\nsamples = 24\\nvalue = [14, 6, 4]'),\n",
       " Text(164.46315789473687, 142.695, 'X[4] <= 43.5\\ngini = 0.529\\nsamples = 22\\nvalue = [14, 4, 4]'),\n",
       " Text(152.71578947368423, 129.10500000000002, 'X[4] <= 30.5\\ngini = 0.499\\nsamples = 21\\nvalue = [14, 4, 3]'),\n",
       " Text(140.96842105263158, 115.515, 'X[4] <= 21.5\\ngini = 0.567\\nsamples = 17\\nvalue = [10, 4, 3]'),\n",
       " Text(99.85263157894738, 101.925, 'X[1] <= 9.5\\ngini = 0.346\\nsamples = 9\\nvalue = [7, 2, 0]'),\n",
       " Text(88.10526315789474, 88.33500000000001, 'gini = 0.0\\nsamples = 1\\nvalue = [0, 1, 0]'),\n",
       " Text(111.60000000000001, 88.33500000000001, 'X[4] <= 10.5\\ngini = 0.219\\nsamples = 8\\nvalue = [7, 1, 0]'),\n",
       " Text(99.85263157894738, 74.745, 'X[1] <= 21.0\\ngini = 0.5\\nsamples = 2\\nvalue = [1, 1, 0]'),\n",
       " Text(88.10526315789474, 61.155, 'gini = 0.0\\nsamples = 1\\nvalue = [1, 0, 0]'),\n",
       " Text(111.60000000000001, 61.155, 'gini = 0.0\\nsamples = 1\\nvalue = [0, 1, 0]'),\n",
       " Text(123.34736842105264, 74.745, 'gini = 0.0\\nsamples = 6\\nvalue = [6, 0, 0]'),\n",
       " Text(182.08421052631581, 101.925, 'X[1] <= 21.0\\ngini = 0.656\\nsamples = 8\\nvalue = [3, 2, 3]'),\n",
       " Text(170.33684210526317, 88.33500000000001, 'X[1] <= 8.5\\ngini = 0.611\\nsamples = 6\\nvalue = [1, 2, 3]'),\n",
       " Text(146.84210526315792, 74.745, 'X[4] <= 25.5\\ngini = 0.5\\nsamples = 2\\nvalue = [1, 1, 0]'),\n",
       " Text(135.09473684210528, 61.155, 'gini = 0.0\\nsamples = 1\\nvalue = [0, 1, 0]'),\n",
       " Text(158.58947368421053, 61.155, 'gini = 0.0\\nsamples = 1\\nvalue = [1, 0, 0]'),\n",
       " Text(193.83157894736843, 74.745, 'X[1] <= 16.5\\ngini = 0.375\\nsamples = 4\\nvalue = [0, 1, 3]'),\n",
       " Text(182.08421052631581, 61.155, 'gini = 0.0\\nsamples = 3\\nvalue = [0, 0, 3]'),\n",
       " Text(205.57894736842107, 61.155, 'gini = 0.0\\nsamples = 1\\nvalue = [0, 1, 0]'),\n",
       " Text(193.83157894736843, 88.33500000000001, 'gini = 0.0\\nsamples = 2\\nvalue = [2, 0, 0]'),\n",
       " Text(164.46315789473687, 115.515, 'gini = 0.0\\nsamples = 4\\nvalue = [4, 0, 0]'),\n",
       " Text(176.21052631578948, 129.10500000000002, 'gini = 0.0\\nsamples = 1\\nvalue = [0, 0, 1]'),\n",
       " Text(187.95789473684212, 142.695, 'gini = 0.0\\nsamples = 2\\nvalue = [0, 2, 0]'),\n",
       " Text(199.70526315789476, 156.285, 'gini = 0.0\\nsamples = 3\\nvalue = [3, 0, 0]'),\n",
       " Text(287.8105263157895, 197.055, 'X[4] <= 9.5\\ngini = 0.587\\nsamples = 52\\nvalue = [9, 29, 14]'),\n",
       " Text(276.0631578947369, 183.465, 'gini = 0.0\\nsamples = 2\\nvalue = [0, 0, 2]'),\n",
       " Text(299.5578947368421, 183.465, 'X[4] <= 51.5\\ngini = 0.574\\nsamples = 50\\nvalue = [9, 29, 12]'),\n",
       " Text(287.8105263157895, 169.875, 'X[1] <= 19.0\\ngini = 0.556\\nsamples = 48\\nvalue = [9, 29, 10]'),\n",
       " Text(276.0631578947369, 156.285, 'X[1] <= 15.5\\ngini = 0.591\\nsamples = 43\\nvalue = [9, 24, 10]'),\n",
       " Text(252.5684210526316, 142.695, 'X[4] <= 40.5\\ngini = 0.477\\nsamples = 32\\nvalue = [4, 22, 6]'),\n",
       " Text(240.82105263157897, 129.10500000000002, 'X[4] <= 38.5\\ngini = 0.532\\nsamples = 27\\nvalue = [4, 17, 6]'),\n",
       " Text(229.07368421052632, 115.515, 'X[2] <= 10.0\\ngini = 0.486\\nsamples = 25\\nvalue = [4, 17, 4]'),\n",
       " Text(217.3263157894737, 101.925, 'gini = 0.0\\nsamples = 4\\nvalue = [0, 4, 0]'),\n",
       " Text(240.82105263157897, 101.925, 'X[2] <= 16.5\\ngini = 0.544\\nsamples = 21\\nvalue = [4, 13, 4]'),\n",
       " Text(229.07368421052632, 88.33500000000001, 'X[4] <= 15.0\\ngini = 0.609\\nsamples = 17\\nvalue = [4, 9, 4]'),\n",
       " Text(217.3263157894737, 74.745, 'gini = 0.0\\nsamples = 3\\nvalue = [0, 3, 0]'),\n",
       " Text(240.82105263157897, 74.745, 'X[4] <= 20.5\\ngini = 0.653\\nsamples = 14\\nvalue = [4, 6, 4]'),\n",
       " Text(229.07368421052632, 61.155, 'gini = 0.0\\nsamples = 2\\nvalue = [0, 0, 2]'),\n",
       " Text(252.5684210526316, 61.155, 'X[2] <= 12.0\\ngini = 0.611\\nsamples = 12\\nvalue = [4, 6, 2]'),\n",
       " Text(240.82105263157897, 47.565, 'gini = 0.0\\nsamples = 2\\nvalue = [2, 0, 0]'),\n",
       " Text(264.3157894736842, 47.565, 'X[4] <= 21.5\\ngini = 0.56\\nsamples = 10\\nvalue = [2, 6, 2]'),\n",
       " Text(252.5684210526316, 33.974999999999994, 'gini = 0.0\\nsamples = 1\\nvalue = [1, 0, 0]'),\n",
       " Text(276.0631578947369, 33.974999999999994, 'X[4] <= 36.5\\ngini = 0.494\\nsamples = 9\\nvalue = [1, 6, 2]'),\n",
       " Text(252.5684210526316, 20.38499999999999, 'X[4] <= 26.5\\ngini = 0.5\\nsamples = 4\\nvalue = [0, 2, 2]'),\n",
       " Text(240.82105263157897, 6.7949999999999875, 'gini = 0.0\\nsamples = 2\\nvalue = [0, 2, 0]'),\n",
       " Text(264.3157894736842, 6.7949999999999875, 'gini = 0.0\\nsamples = 2\\nvalue = [0, 0, 2]'),\n",
       " Text(299.5578947368421, 20.38499999999999, 'X[1] <= 14.5\\ngini = 0.32\\nsamples = 5\\nvalue = [1, 4, 0]'),\n",
       " Text(287.8105263157895, 6.7949999999999875, 'gini = 0.444\\nsamples = 3\\nvalue = [1, 2, 0]'),\n",
       " Text(311.3052631578948, 6.7949999999999875, 'gini = 0.0\\nsamples = 2\\nvalue = [0, 2, 0]'),\n",
       " Text(252.5684210526316, 88.33500000000001, 'gini = 0.0\\nsamples = 4\\nvalue = [0, 4, 0]'),\n",
       " Text(252.5684210526316, 115.515, 'gini = 0.0\\nsamples = 2\\nvalue = [0, 0, 2]'),\n",
       " Text(264.3157894736842, 129.10500000000002, 'gini = 0.0\\nsamples = 5\\nvalue = [0, 5, 0]'),\n",
       " Text(299.5578947368421, 142.695, 'X[2] <= 10.0\\ngini = 0.628\\nsamples = 11\\nvalue = [5, 2, 4]'),\n",
       " Text(287.8105263157895, 129.10500000000002, 'gini = 0.0\\nsamples = 3\\nvalue = [3, 0, 0]'),\n",
       " Text(311.3052631578948, 129.10500000000002, 'X[4] <= 37.5\\ngini = 0.625\\nsamples = 8\\nvalue = [2, 2, 4]'),\n",
       " Text(299.5578947368421, 115.515, 'X[2] <= 14.5\\ngini = 0.571\\nsamples = 7\\nvalue = [2, 1, 4]'),\n",
       " Text(287.8105263157895, 101.925, 'gini = 0.0\\nsamples = 1\\nvalue = [0, 1, 0]'),\n",
       " Text(311.3052631578948, 101.925, 'X[2] <= 20.5\\ngini = 0.444\\nsamples = 6\\nvalue = [2, 0, 4]'),\n",
       " Text(299.5578947368421, 88.33500000000001, 'X[0] <= 1.5\\ngini = 0.5\\nsamples = 4\\nvalue = [2, 0, 2]'),\n",
       " Text(287.8105263157895, 74.745, 'gini = 0.0\\nsamples = 1\\nvalue = [0, 0, 1]'),\n",
       " Text(311.3052631578948, 74.745, 'X[4] <= 13.0\\ngini = 0.444\\nsamples = 3\\nvalue = [2, 0, 1]'),\n",
       " Text(299.5578947368421, 61.155, 'gini = 0.0\\nsamples = 1\\nvalue = [0, 0, 1]'),\n",
       " Text(323.0526315789474, 61.155, 'gini = 0.0\\nsamples = 2\\nvalue = [2, 0, 0]'),\n",
       " Text(323.0526315789474, 88.33500000000001, 'gini = 0.0\\nsamples = 2\\nvalue = [0, 0, 2]'),\n",
       " Text(323.0526315789474, 115.515, 'gini = 0.0\\nsamples = 1\\nvalue = [0, 1, 0]'),\n",
       " Text(299.5578947368421, 156.285, 'gini = 0.0\\nsamples = 5\\nvalue = [0, 5, 0]'),\n",
       " Text(311.3052631578948, 169.875, 'gini = 0.0\\nsamples = 2\\nvalue = [0, 0, 2]')]"
      ]
     },
     "execution_count": 37,
     "metadata": {},
     "output_type": "execute_result"
    },
    {
     "data": {
      "image/png": "[encoded data removed]",
      "text/plain": [
       "<Figure size 432x288 with 1 Axes>"
      ]
     },
     "metadata": {
      "needs_background": "light"
     },
     "output_type": "display_data"
    }
   ],
   "source": [
    "#Plot the tree diagram\n",
    "tree.plot_tree(dtc)"
   ]
  },
  {
   "cell_type": "markdown",
   "metadata": {},
   "source": [
    "It seems difficult to read the decisiton tree diagram"
   ]
  },
  {
   "cell_type": "markdown",
   "metadata": {},
   "source": [
    "Evalutation: \n",
    "I am going evalute the model with the F-1 score, recall score and accuracy-socre.\n",
    "Precision score is the calculation of how accurate the moel is out of those predicted positive. The calculation is as follows,\n",
    "Precision = True Positive / (True Positive + False Positive)\n",
    "\n",
    "Recall score calculates how many of the actual positives are captured through the correct label.\n",
    "Recall score = True Positive / (Ture Positive + False Negative)\n",
    "\n",
    "F1-score is a function of precision and recall function as it is calcualted as follows,\n",
    "F1-score = 2 x (Precision * Recall) /( Precision+Recall)\n",
    "\n",
    "Accuracy score = (True Negative + True Positive) / (True Negative + False Positive + True Positive + False Negative)"
   ]
  },
  {
   "cell_type": "code",
   "execution_count": 38,
   "metadata": {},
   "outputs": [
    {
     "name": "stdout",
     "output_type": "stream",
     "text": [
      "F1-score of training set = 0.9714285714285714\n"
     ]
    }
   ],
   "source": [
    "# Evaluate the F1 score of the training set\n",
    "dtc_pred_train=dtc.predict(X_train)\n",
    "print('F1-score of training set =',f1_score(y_train,dtc_pred_train,average='weighted'))"
   ]
  },
  {
   "cell_type": "code",
   "execution_count": 39,
   "metadata": {},
   "outputs": [],
   "source": [
    "y_pred=dtc.predict(X_test)"
   ]
  },
  {
   "cell_type": "code",
   "execution_count": 40,
   "metadata": {},
   "outputs": [
    {
     "name": "stdout",
     "output_type": "stream",
     "text": [
      "F1-Score of the testing set = 0.662435727653119\n"
     ]
    }
   ],
   "source": [
    "print('F1-Score of the testing set =',f1_score(y_test,y_pred, average='weighted'))"
   ]
  },
  {
   "cell_type": "code",
   "execution_count": 41,
   "metadata": {},
   "outputs": [
    {
     "name": "stdout",
     "output_type": "stream",
     "text": [
      "Recall_score = 0.6521739130434783\n"
     ]
    }
   ],
   "source": [
    "print('Recall_score =',recall_score(y_test,y_pred,average='weighted'))"
   ]
  },
  {
   "cell_type": "code",
   "execution_count": 42,
   "metadata": {},
   "outputs": [
    {
     "name": "stdout",
     "output_type": "stream",
     "text": [
      "Accuracy_score =: 0.6521739130434783\n"
     ]
    }
   ],
   "source": [
    "print(\"Accuracy_score =:\",accuracy_score(y_test, y_pred))"
   ]
  },
  {
   "cell_type": "markdown",
   "metadata": {},
   "source": [
    "For the decision truee model, the F1-score of the training set is 0.97, which is a pretty good number. However, the f-1 score, recall score and the accuracy for the testing set is only 0.65. I will try if there is any better fit."
   ]
  },
  {
   "cell_type": "markdown",
   "metadata": {},
   "source": [
    "Let's see the importances of each features"
   ]
  },
  {
   "cell_type": "code",
   "execution_count": 43,
   "metadata": {},
   "outputs": [],
   "source": [
    "features=['Native','Instructor','Course','Semester','Size']\n"
   ]
  },
  {
   "cell_type": "code",
   "execution_count": 44,
   "metadata": {},
   "outputs": [
    {
     "data": {
      "text/html": [
       "<div>\n",
       "<style scoped>\n",
       "    .dataframe tbody tr th:only-of-type {\n",
       "        vertical-align: middle;\n",
       "    }\n",
       "\n",
       "    .dataframe tbody tr th {\n",
       "        vertical-align: top;\n",
       "    }\n",
       "\n",
       "    .dataframe thead th {\n",
       "        text-align: right;\n",
       "    }\n",
       "</style>\n",
       "<table border=\"1\" class=\"dataframe\">\n",
       "  <thead>\n",
       "    <tr style=\"text-align: right;\">\n",
       "      <th></th>\n",
       "      <th>features</th>\n",
       "      <th>importance</th>\n",
       "    </tr>\n",
       "  </thead>\n",
       "  <tbody>\n",
       "    <tr>\n",
       "      <th>4</th>\n",
       "      <td>Size</td>\n",
       "      <td>0.463436</td>\n",
       "    </tr>\n",
       "    <tr>\n",
       "      <th>1</th>\n",
       "      <td>Instructor</td>\n",
       "      <td>0.197684</td>\n",
       "    </tr>\n",
       "    <tr>\n",
       "      <th>2</th>\n",
       "      <td>Course</td>\n",
       "      <td>0.195499</td>\n",
       "    </tr>\n",
       "    <tr>\n",
       "      <th>0</th>\n",
       "      <td>Native</td>\n",
       "      <td>0.073690</td>\n",
       "    </tr>\n",
       "    <tr>\n",
       "      <th>3</th>\n",
       "      <td>Semester</td>\n",
       "      <td>0.069691</td>\n",
       "    </tr>\n",
       "  </tbody>\n",
       "</table>\n",
       "</div>"
      ],
      "text/plain": [
       "     features  importance\n",
       "4        Size    0.463436\n",
       "1  Instructor    0.197684\n",
       "2      Course    0.195499\n",
       "0      Native    0.073690\n",
       "3    Semester    0.069691"
      ]
     },
     "execution_count": 44,
     "metadata": {},
     "output_type": "execute_result"
    }
   ],
   "source": [
    "Importance={'features': features,'importance':dtc.feature_importances_}\n",
    "pd.DataFrame(data=Importance).sort_values(by=['importance'],ascending=False)"
   ]
  },
  {
   "cell_type": "markdown",
   "metadata": {},
   "source": [
    "From the table above, we can see class size and course play the most important parts in the algorithm and their total importance are around 0.66"
   ]
  },
  {
   "cell_type": "markdown",
   "metadata": {},
   "source": [
    "Now we try to see if we can have a better model by using Random Forest"
   ]
  },
  {
   "cell_type": "markdown",
   "metadata": {},
   "source": [
    "B. Random Forest"
   ]
  },
  {
   "cell_type": "code",
   "execution_count": 45,
   "metadata": {},
   "outputs": [
    {
     "data": {
      "text/plain": [
       "RandomForestClassifier(bootstrap=True, ccp_alpha=0.0, class_weight=None,\n",
       "                       criterion='gini', max_depth=None, max_features='auto',\n",
       "                       max_leaf_nodes=None, max_samples=None,\n",
       "                       min_impurity_decrease=0.0, min_impurity_split=None,\n",
       "                       min_samples_leaf=1, min_samples_split=2,\n",
       "                       min_weight_fraction_leaf=0.0, n_estimators=100,\n",
       "                       n_jobs=None, oob_score=False, random_state=100,\n",
       "                       verbose=0, warm_start=False)"
      ]
     },
     "execution_count": 45,
     "metadata": {},
     "output_type": "execute_result"
    }
   ],
   "source": [
    "# Builind Random Forest Classifier with default parameter\n",
    "from sklearn.ensemble import RandomForestClassifier\n",
    "rfc=RandomForestClassifier(random_state=100)\n",
    "rfc.fit(X_train,y_train)"
   ]
  },
  {
   "cell_type": "code",
   "execution_count": 46,
   "metadata": {},
   "outputs": [
    {
     "name": "stdout",
     "output_type": "stream",
     "text": [
      "F1-score of training set = 0.9713390619405657\n"
     ]
    }
   ],
   "source": [
    "# Evaluate the F1 score of the training set\n",
    "rfc_pred_train=rfc.predict(X_train)\n",
    "print('F1-score of training set =',f1_score(y_train,rfc_pred_train,average='weighted'))"
   ]
  },
  {
   "cell_type": "code",
   "execution_count": 47,
   "metadata": {},
   "outputs": [],
   "source": [
    "rfc_pred_test=rfc.predict(X_test)"
   ]
  },
  {
   "cell_type": "code",
   "execution_count": 48,
   "metadata": {},
   "outputs": [
    {
     "name": "stdout",
     "output_type": "stream",
     "text": [
      "F1-Score of the testing set = 0.6556521739130434\n",
      "recall_score = 0.6521739130434783\n",
      "Accuracy_score =: 0.6521739130434783\n"
     ]
    }
   ],
   "source": [
    "print('F1-Score of the testing set =',f1_score(y_test,rfc_pred_test, average='weighted'))\n",
    "print('recall_score =',recall_score(y_test,rfc_pred_test,average='weighted'))\n",
    "print(\"Accuracy_score =:\",accuracy_score(y_test, rfc_pred_test))"
   ]
  },
  {
   "cell_type": "markdown",
   "metadata": {},
   "source": [
    "Same as Decision tree, in the random forest model, the F1 score for the training set is 0.97. However, the f1 score, recall score and the accurary score is around 0.65. There is not much difference between using decision tree and random forest, which is a little bit surprised for me."
   ]
  },
  {
   "cell_type": "code",
   "execution_count": 49,
   "metadata": {},
   "outputs": [
    {
     "data": {
      "text/html": [
       "<div>\n",
       "<style scoped>\n",
       "    .dataframe tbody tr th:only-of-type {\n",
       "        vertical-align: middle;\n",
       "    }\n",
       "\n",
       "    .dataframe tbody tr th {\n",
       "        vertical-align: top;\n",
       "    }\n",
       "\n",
       "    .dataframe thead th {\n",
       "        text-align: right;\n",
       "    }\n",
       "</style>\n",
       "<table border=\"1\" class=\"dataframe\">\n",
       "  <thead>\n",
       "    <tr style=\"text-align: right;\">\n",
       "      <th></th>\n",
       "      <th>features</th>\n",
       "      <th>importance</th>\n",
       "    </tr>\n",
       "  </thead>\n",
       "  <tbody>\n",
       "    <tr>\n",
       "      <th>4</th>\n",
       "      <td>Size</td>\n",
       "      <td>0.463436</td>\n",
       "    </tr>\n",
       "    <tr>\n",
       "      <th>1</th>\n",
       "      <td>Instructor</td>\n",
       "      <td>0.197684</td>\n",
       "    </tr>\n",
       "    <tr>\n",
       "      <th>2</th>\n",
       "      <td>Course</td>\n",
       "      <td>0.195499</td>\n",
       "    </tr>\n",
       "    <tr>\n",
       "      <th>0</th>\n",
       "      <td>Native</td>\n",
       "      <td>0.073690</td>\n",
       "    </tr>\n",
       "    <tr>\n",
       "      <th>3</th>\n",
       "      <td>Semester</td>\n",
       "      <td>0.069691</td>\n",
       "    </tr>\n",
       "  </tbody>\n",
       "</table>\n",
       "</div>"
      ],
      "text/plain": [
       "     features  importance\n",
       "4        Size    0.463436\n",
       "1  Instructor    0.197684\n",
       "2      Course    0.195499\n",
       "0      Native    0.073690\n",
       "3    Semester    0.069691"
      ]
     },
     "execution_count": 49,
     "metadata": {},
     "output_type": "execute_result"
    }
   ],
   "source": [
    "#Let's see the importance of each features in random forest\n",
    "Importance2={'features': features,'importance':rfc.feature_importances_}\n",
    "pd.DataFrame(data=Importance).sort_values(by=['importance'],ascending=False)"
   ]
  },
  {
   "cell_type": "markdown",
   "metadata": {},
   "source": [
    "Conclustion: There is no big difference in importance between Raondom Forest and Dicision Tree"
   ]
  },
  {
   "cell_type": "markdown",
   "metadata": {},
   "source": [
    "How about if we change the parameter with 'Gini Index' in stead of Entropy?\n",
    "Gini index has value between [0,0.5] where the interval of Entropy is [0.1]. Entropy is more complex in calculation because it make use of logarithms and consequently. The calculation of the Gini Index will be faster.\n",
    "In Decision tree, the default criterion is 'Gini Index'"
   ]
  },
  {
   "cell_type": "markdown",
   "metadata": {},
   "source": [
    "C. Comparsion between 'Gini Index' and Entropy"
   ]
  },
  {
   "cell_type": "code",
   "execution_count": 50,
   "metadata": {},
   "outputs": [
    {
     "data": {
      "text/plain": [
       "DecisionTreeClassifier(ccp_alpha=0.0, class_weight=None, criterion='entropy',\n",
       "                       max_depth=None, max_features=None, max_leaf_nodes=None,\n",
       "                       min_impurity_decrease=0.0, min_impurity_split=None,\n",
       "                       min_samples_leaf=1, min_samples_split=2,\n",
       "                       min_weight_fraction_leaf=0.0, presort='deprecated',\n",
       "                       random_state=100, splitter='best')"
      ]
     },
     "execution_count": 50,
     "metadata": {},
     "output_type": "execute_result"
    }
   ],
   "source": [
    "dtc2=DecisionTreeClassifier(criterion='entropy',random_state=100)\n",
    "dtc2.fit(X_train,y_train)"
   ]
  },
  {
   "cell_type": "code",
   "execution_count": 51,
   "metadata": {},
   "outputs": [
    {
     "name": "stdout",
     "output_type": "stream",
     "text": [
      "F1-score of training set = 0.9714285714285714\n"
     ]
    }
   ],
   "source": [
    "# Evaluate the F1 score of the training set\n",
    "dtc2_pred_train=dtc2.predict(X_train)\n",
    "print('F1-score of training set =',f1_score(y_train,dtc2_pred_train,average='weighted'))"
   ]
  },
  {
   "cell_type": "code",
   "execution_count": 52,
   "metadata": {},
   "outputs": [],
   "source": [
    "dtc2_pred_test=dtc2.predict(X_test)"
   ]
  },
  {
   "cell_type": "code",
   "execution_count": 53,
   "metadata": {},
   "outputs": [
    {
     "name": "stdout",
     "output_type": "stream",
     "text": [
      "F1-Score of the testing set = 0.5665424430641821\n",
      "recall_score = 0.5652173913043478\n",
      "Accuracy_score =: 0.5652173913043478\n"
     ]
    }
   ],
   "source": [
    "print('F1-Score of the testing set =',f1_score(y_test,dtc2_pred_test, average='weighted'))\n",
    "print('recall_score =',recall_score(y_test,dtc2_pred_test,average='weighted'))\n",
    "print(\"Accuracy_score =:\",accuracy_score(y_test, dtc2_pred_test))"
   ]
  },
  {
   "cell_type": "code",
   "execution_count": 54,
   "metadata": {},
   "outputs": [
    {
     "data": {
      "text/html": [
       "<div>\n",
       "<style scoped>\n",
       "    .dataframe tbody tr th:only-of-type {\n",
       "        vertical-align: middle;\n",
       "    }\n",
       "\n",
       "    .dataframe tbody tr th {\n",
       "        vertical-align: top;\n",
       "    }\n",
       "\n",
       "    .dataframe thead th {\n",
       "        text-align: right;\n",
       "    }\n",
       "</style>\n",
       "<table border=\"1\" class=\"dataframe\">\n",
       "  <thead>\n",
       "    <tr style=\"text-align: right;\">\n",
       "      <th></th>\n",
       "      <th>features</th>\n",
       "      <th>importance</th>\n",
       "    </tr>\n",
       "  </thead>\n",
       "  <tbody>\n",
       "    <tr>\n",
       "      <th>4</th>\n",
       "      <td>Size</td>\n",
       "      <td>0.535083</td>\n",
       "    </tr>\n",
       "    <tr>\n",
       "      <th>2</th>\n",
       "      <td>Course</td>\n",
       "      <td>0.229944</td>\n",
       "    </tr>\n",
       "    <tr>\n",
       "      <th>1</th>\n",
       "      <td>Instructor</td>\n",
       "      <td>0.110294</td>\n",
       "    </tr>\n",
       "    <tr>\n",
       "      <th>3</th>\n",
       "      <td>Semester</td>\n",
       "      <td>0.071434</td>\n",
       "    </tr>\n",
       "    <tr>\n",
       "      <th>0</th>\n",
       "      <td>Native</td>\n",
       "      <td>0.053245</td>\n",
       "    </tr>\n",
       "  </tbody>\n",
       "</table>\n",
       "</div>"
      ],
      "text/plain": [
       "     features  importance\n",
       "4        Size    0.535083\n",
       "2      Course    0.229944\n",
       "1  Instructor    0.110294\n",
       "3    Semester    0.071434\n",
       "0      Native    0.053245"
      ]
     },
     "execution_count": 54,
     "metadata": {},
     "output_type": "execute_result"
    }
   ],
   "source": [
    "Importance={'features': features,'importance':dtc2.feature_importances_}\n",
    "pd.DataFrame(data=Importance).sort_values(by=['importance'],ascending=False)"
   ]
  },
  {
   "cell_type": "markdown",
   "metadata": {},
   "source": [
    "Conlusion: While using entropy as the criterion, the f1 score for the training set is still 0.97. However, the f1 score, recall score and the accurarcy score drom from 0.65 to 0.56 when compared with the 'Gini Index'. So, entropy is not a good choice, probably, 'entropy' is better fit for the imbalanced datasets."
   ]
  },
  {
   "cell_type": "markdown",
   "metadata": {},
   "source": [
    "D. From the importance table above, we can see Native only occupy 0.05 for the importance. \n",
    "How about if we drop some non-important features? Will the score improve?"
   ]
  },
  {
   "cell_type": "code",
   "execution_count": 55,
   "metadata": {},
   "outputs": [],
   "source": [
    "#Drop the Native features in \n",
    "X2_train=X_train.drop(columns='Native')\n",
    "X2_test=X_test.drop(columns='Native')"
   ]
  },
  {
   "cell_type": "code",
   "execution_count": 56,
   "metadata": {},
   "outputs": [
    {
     "name": "stdout",
     "output_type": "stream",
     "text": [
      "<class 'pandas.core.frame.DataFrame'>\n",
      "Int64Index: 105 entries, 25 to 8\n",
      "Data columns (total 4 columns):\n",
      " #   Column      Non-Null Count  Dtype   \n",
      "---  ------      --------------  -----   \n",
      " 0   Instructor  105 non-null    category\n",
      " 1   Course      105 non-null    category\n",
      " 2   Semester    105 non-null    category\n",
      " 3   Size        105 non-null    int64   \n",
      "dtypes: category(3), int64(1)\n",
      "memory usage: 4.3 KB\n"
     ]
    }
   ],
   "source": [
    "#Check X2_train\n",
    "X2_train.info()"
   ]
  },
  {
   "cell_type": "code",
   "execution_count": 57,
   "metadata": {},
   "outputs": [
    {
     "name": "stdout",
     "output_type": "stream",
     "text": [
      "<class 'pandas.core.frame.DataFrame'>\n",
      "Int64Index: 46 entries, 128 to 6\n",
      "Data columns (total 4 columns):\n",
      " #   Column      Non-Null Count  Dtype   \n",
      "---  ------      --------------  -----   \n",
      " 0   Instructor  46 non-null     category\n",
      " 1   Course      46 non-null     category\n",
      " 2   Semester    46 non-null     category\n",
      " 3   Size        46 non-null     int64   \n",
      "dtypes: category(3), int64(1)\n",
      "memory usage: 3.2 KB\n"
     ]
    }
   ],
   "source": [
    "#Check X2_test\n",
    "X2_test.info()"
   ]
  },
  {
   "cell_type": "markdown",
   "metadata": {},
   "source": [
    "Since Entropy won't give me a better accruracy score, we wil fit the Decison Tree model with \"Gini Index\""
   ]
  },
  {
   "cell_type": "code",
   "execution_count": 58,
   "metadata": {},
   "outputs": [
    {
     "data": {
      "text/plain": [
       "DecisionTreeClassifier(ccp_alpha=0.0, class_weight=None, criterion='gini',\n",
       "                       max_depth=None, max_features=None, max_leaf_nodes=None,\n",
       "                       min_impurity_decrease=0.0, min_impurity_split=None,\n",
       "                       min_samples_leaf=1, min_samples_split=2,\n",
       "                       min_weight_fraction_leaf=0.0, presort='deprecated',\n",
       "                       random_state=100, splitter='best')"
      ]
     },
     "execution_count": 58,
     "metadata": {},
     "output_type": "execute_result"
    }
   ],
   "source": [
    "dtc3=DecisionTreeClassifier(criterion='gini',random_state=100)\n",
    "dtc3.fit(X2_train,y_train)"
   ]
  },
  {
   "cell_type": "code",
   "execution_count": 59,
   "metadata": {},
   "outputs": [
    {
     "name": "stdout",
     "output_type": "stream",
     "text": [
      "F1-score of training set = 0.9714285714285714\n"
     ]
    }
   ],
   "source": [
    "# Evaluate the F1 score of the training set\n",
    "dtc3_pred_train=dtc3.predict(X2_train)\n",
    "print('F1-score of training set =',f1_score(y_train,dtc3_pred_train,average='weighted'))"
   ]
  },
  {
   "cell_type": "code",
   "execution_count": 60,
   "metadata": {},
   "outputs": [],
   "source": [
    "dtc3_pred_test=dtc3.predict(X2_test)"
   ]
  },
  {
   "cell_type": "code",
   "execution_count": 61,
   "metadata": {},
   "outputs": [
    {
     "name": "stdout",
     "output_type": "stream",
     "text": [
      "F1-Score of the testing set = 0.591829816086109\n",
      "recall_score = 0.5869565217391305\n",
      "Accuracy_score =: 0.5869565217391305\n"
     ]
    }
   ],
   "source": [
    "print('F1-Score of the testing set =',f1_score(y_test,dtc3_pred_test, average='weighted'))\n",
    "print('recall_score =',recall_score(y_test,dtc3_pred_test,average='weighted'))\n",
    "print(\"Accuracy_score =:\",accuracy_score(y_test, dtc3_pred_test))"
   ]
  },
  {
   "cell_type": "code",
   "execution_count": 62,
   "metadata": {},
   "outputs": [
    {
     "data": {
      "text/html": [
       "<div>\n",
       "<style scoped>\n",
       "    .dataframe tbody tr th:only-of-type {\n",
       "        vertical-align: middle;\n",
       "    }\n",
       "\n",
       "    .dataframe tbody tr th {\n",
       "        vertical-align: top;\n",
       "    }\n",
       "\n",
       "    .dataframe thead th {\n",
       "        text-align: right;\n",
       "    }\n",
       "</style>\n",
       "<table border=\"1\" class=\"dataframe\">\n",
       "  <thead>\n",
       "    <tr style=\"text-align: right;\">\n",
       "      <th></th>\n",
       "      <th>features</th>\n",
       "      <th>importance</th>\n",
       "    </tr>\n",
       "  </thead>\n",
       "  <tbody>\n",
       "    <tr>\n",
       "      <th>3</th>\n",
       "      <td>Size</td>\n",
       "      <td>0.541966</td>\n",
       "    </tr>\n",
       "    <tr>\n",
       "      <th>1</th>\n",
       "      <td>Course</td>\n",
       "      <td>0.221677</td>\n",
       "    </tr>\n",
       "    <tr>\n",
       "      <th>0</th>\n",
       "      <td>Instructor</td>\n",
       "      <td>0.182302</td>\n",
       "    </tr>\n",
       "    <tr>\n",
       "      <th>2</th>\n",
       "      <td>Semester</td>\n",
       "      <td>0.054055</td>\n",
       "    </tr>\n",
       "  </tbody>\n",
       "</table>\n",
       "</div>"
      ],
      "text/plain": [
       "     features  importance\n",
       "3        Size    0.541966\n",
       "1      Course    0.221677\n",
       "0  Instructor    0.182302\n",
       "2    Semester    0.054055"
      ]
     },
     "execution_count": 62,
     "metadata": {},
     "output_type": "execute_result"
    }
   ],
   "source": [
    "features2=['Instructor','Course','Semester','Size']\n",
    "Importance={'features': features2,'importance':dtc3.feature_importances_}\n",
    "pd.DataFrame(data=Importance).sort_values(by=['importance'],ascending=False)"
   ]
  },
  {
   "cell_type": "markdown",
   "metadata": {},
   "source": [
    "Conclusion: When we drop the feature of 'Native'. The decision tree model has a f1 score for the training set. However, both the f1 score, recall score and the accuracy score for the testing set are around 0.58, which mean it is performance even poor, which is surprising me again. From the imporance table, the class size and the course occupy around 0.76 of the classification."
   ]
  },
  {
   "cell_type": "markdown",
   "metadata": {},
   "source": [
    "Is it because the training set is too small for fitting? I am going to change the split ratio from 70/30 to 80/20"
   ]
  },
  {
   "cell_type": "markdown",
   "metadata": {},
   "source": [
    "E. Change the Split Ratio from 70/30 to 80/20"
   ]
  },
  {
   "cell_type": "code",
   "execution_count": 63,
   "metadata": {},
   "outputs": [],
   "source": [
    "X3_train, X3_test, y3_train, y3_test = train_test_split(X, y, test_size=0.2, random_state=100)"
   ]
  },
  {
   "cell_type": "code",
   "execution_count": 64,
   "metadata": {},
   "outputs": [
    {
     "name": "stdout",
     "output_type": "stream",
     "text": [
      "<class 'pandas.core.frame.DataFrame'>\n",
      "Int64Index: 120 entries, 99 to 8\n",
      "Data columns (total 5 columns):\n",
      " #   Column      Non-Null Count  Dtype   \n",
      "---  ------      --------------  -----   \n",
      " 0   Native      120 non-null    category\n",
      " 1   Instructor  120 non-null    category\n",
      " 2   Course      120 non-null    category\n",
      " 3   Semester    120 non-null    category\n",
      " 4   Size        120 non-null    int64   \n",
      "dtypes: category(4), int64(1)\n",
      "memory usage: 4.8 KB\n"
     ]
    }
   ],
   "source": [
    "#Check the training and testing set\n",
    "X3_train.info()"
   ]
  },
  {
   "cell_type": "code",
   "execution_count": 65,
   "metadata": {},
   "outputs": [
    {
     "name": "stdout",
     "output_type": "stream",
     "text": [
      "<class 'pandas.core.frame.DataFrame'>\n",
      "Int64Index: 31 entries, 128 to 81\n",
      "Data columns (total 5 columns):\n",
      " #   Column      Non-Null Count  Dtype   \n",
      "---  ------      --------------  -----   \n",
      " 0   Native      31 non-null     category\n",
      " 1   Instructor  31 non-null     category\n",
      " 2   Course      31 non-null     category\n",
      " 3   Semester    31 non-null     category\n",
      " 4   Size        31 non-null     int64   \n",
      "dtypes: category(4), int64(1)\n",
      "memory usage: 3.1 KB\n"
     ]
    }
   ],
   "source": [
    "X3_test.info()"
   ]
  },
  {
   "cell_type": "code",
   "execution_count": 66,
   "metadata": {},
   "outputs": [
    {
     "name": "stdout",
     "output_type": "stream",
     "text": [
      "Shape of X3_Training : (120, 5)\n",
      "Shape of y3_Training : (120,)\n",
      "Shape of X3_Testing : (31, 5)\n",
      "Shape of Y3_Testing : (31,)\n"
     ]
    }
   ],
   "source": [
    "#### Check the dimension of the X2_train, y2_train, X2_test and y2_test\n",
    "print(\"Shape of X3_Training :\",X3_train.shape)\n",
    "print(\"Shape of y3_Training :\",y3_train.shape)\n",
    "print(\"Shape of X3_Testing :\",X3_test.shape)\n",
    "print(\"Shape of Y3_Testing :\",y3_test.shape)"
   ]
  },
  {
   "cell_type": "code",
   "execution_count": 67,
   "metadata": {},
   "outputs": [
    {
     "data": {
      "text/plain": [
       "DecisionTreeClassifier(ccp_alpha=0.0, class_weight=None, criterion='gini',\n",
       "                       max_depth=None, max_features=None, max_leaf_nodes=None,\n",
       "                       min_impurity_decrease=0.0, min_impurity_split=None,\n",
       "                       min_samples_leaf=1, min_samples_split=2,\n",
       "                       min_weight_fraction_leaf=0.0, presort='deprecated',\n",
       "                       random_state=100, splitter='best')"
      ]
     },
     "execution_count": 67,
     "metadata": {},
     "output_type": "execute_result"
    }
   ],
   "source": [
    "dtc4=DecisionTreeClassifier(criterion='gini',random_state=100)\n",
    "dtc4.fit(X3_train,y3_train)"
   ]
  },
  {
   "cell_type": "code",
   "execution_count": 68,
   "metadata": {},
   "outputs": [
    {
     "name": "stdout",
     "output_type": "stream",
     "text": [
      "F1-score of training set = 0.9666666666666667\n"
     ]
    }
   ],
   "source": [
    "# Evaluate the F1 score of the training set\n",
    "dtc4_pred_train=dtc4.predict(X3_train)\n",
    "print('F1-score of training set =',f1_score(y3_train,dtc4_pred_train,average='weighted'))"
   ]
  },
  {
   "cell_type": "code",
   "execution_count": 69,
   "metadata": {},
   "outputs": [],
   "source": [
    "dtc4_pred_test=dtc4.predict(X3_test)"
   ]
  },
  {
   "cell_type": "code",
   "execution_count": 70,
   "metadata": {},
   "outputs": [
    {
     "name": "stdout",
     "output_type": "stream",
     "text": [
      "F1-Score of the testing set = 0.7199180747567844\n",
      "recall_score = 0.7096774193548387\n",
      "Accuracy_score =: 0.7096774193548387\n"
     ]
    }
   ],
   "source": [
    "print('F1-Score of the testing set =',f1_score(y3_test,dtc4_pred_test, average='weighted'))\n",
    "print('recall_score =',recall_score(y3_test,dtc4_pred_test,average='weighted'))\n",
    "print(\"Accuracy_score =:\",accuracy_score(y3_test, dtc4_pred_test))"
   ]
  },
  {
   "cell_type": "code",
   "execution_count": 71,
   "metadata": {},
   "outputs": [
    {
     "data": {
      "text/html": [
       "<div>\n",
       "<style scoped>\n",
       "    .dataframe tbody tr th:only-of-type {\n",
       "        vertical-align: middle;\n",
       "    }\n",
       "\n",
       "    .dataframe tbody tr th {\n",
       "        vertical-align: top;\n",
       "    }\n",
       "\n",
       "    .dataframe thead th {\n",
       "        text-align: right;\n",
       "    }\n",
       "</style>\n",
       "<table border=\"1\" class=\"dataframe\">\n",
       "  <thead>\n",
       "    <tr style=\"text-align: right;\">\n",
       "      <th></th>\n",
       "      <th>features</th>\n",
       "      <th>importance</th>\n",
       "    </tr>\n",
       "  </thead>\n",
       "  <tbody>\n",
       "    <tr>\n",
       "      <th>4</th>\n",
       "      <td>Size</td>\n",
       "      <td>0.407636</td>\n",
       "    </tr>\n",
       "    <tr>\n",
       "      <th>1</th>\n",
       "      <td>Instructor</td>\n",
       "      <td>0.246966</td>\n",
       "    </tr>\n",
       "    <tr>\n",
       "      <th>2</th>\n",
       "      <td>Course</td>\n",
       "      <td>0.190541</td>\n",
       "    </tr>\n",
       "    <tr>\n",
       "      <th>0</th>\n",
       "      <td>Native</td>\n",
       "      <td>0.080087</td>\n",
       "    </tr>\n",
       "    <tr>\n",
       "      <th>3</th>\n",
       "      <td>Semester</td>\n",
       "      <td>0.074770</td>\n",
       "    </tr>\n",
       "  </tbody>\n",
       "</table>\n",
       "</div>"
      ],
      "text/plain": [
       "     features  importance\n",
       "4        Size    0.407636\n",
       "1  Instructor    0.246966\n",
       "2      Course    0.190541\n",
       "0      Native    0.080087\n",
       "3    Semester    0.074770"
      ]
     },
     "execution_count": 71,
     "metadata": {},
     "output_type": "execute_result"
    }
   ],
   "source": [
    "Importance={'features': features,'importance':dtc4.feature_importances_}\n",
    "pd.DataFrame(data=Importance).sort_values(by=['importance'],ascending=False)"
   ]
  },
  {
   "cell_type": "markdown",
   "metadata": {},
   "source": [
    "Conclusion: when we change the ratio of the training/testing data, both the f1 score, recall score and accuracy score improve from 0.65 to 0.7."
   ]
  },
  {
   "cell_type": "markdown",
   "metadata": {},
   "source": [
    "F. KNN Let's try using the knn alorithm"
   ]
  },
  {
   "cell_type": "code",
   "execution_count": 72,
   "metadata": {},
   "outputs": [
    {
     "data": {
      "text/plain": [
       "KNeighborsClassifier(algorithm='auto', leaf_size=30, metric='minkowski',\n",
       "                     metric_params=None, n_jobs=None, n_neighbors=11, p=2,\n",
       "                     weights='uniform')"
      ]
     },
     "execution_count": 72,
     "metadata": {},
     "output_type": "execute_result"
    }
   ],
   "source": [
    "from sklearn.neighbors import KNeighborsClassifier\n",
    "\n",
    "#Create KNN Classifier\n",
    "knn=KNeighborsClassifier(n_neighbors=11)\n",
    "\n",
    "#Train the model using the training sets\n",
    "knn.fit(X_train,y_train)"
   ]
  },
  {
   "cell_type": "code",
   "execution_count": 73,
   "metadata": {},
   "outputs": [],
   "source": [
    "knn_pred_test=knn.predict(X_test)"
   ]
  },
  {
   "cell_type": "code",
   "execution_count": 74,
   "metadata": {},
   "outputs": [
    {
     "name": "stdout",
     "output_type": "stream",
     "text": [
      "Accuracy_score =: 0.5\n"
     ]
    }
   ],
   "source": [
    "print(\"Accuracy_score =:\",accuracy_score(y_test, knn_pred_test))"
   ]
  },
  {
   "cell_type": "markdown",
   "metadata": {},
   "source": [
    "KNN conlusion: The best accurary score is 0.5 when k=11. Still have a poor score when compared with the decition tree model"
   ]
  },
  {
   "cell_type": "markdown",
   "metadata": {},
   "source": [
    "# Conclusion"
   ]
  },
  {
   "cell_type": "markdown",
   "metadata": {},
   "source": [
    "1. Decision Tree have the same result compared with Random Forest\n",
    "2. \"Gini Index\" have a better fitting result compared with 'Entropy'\n",
    "3. Dropping some features won't improve the accuracy score in Decision Tree model\n",
    "4. Change the split from 70/30 to 80/20 can improve the model.\n",
    "5. KNN model with k=11 best fit the model with the accurary score of 0.5"
   ]
  },
  {
   "cell_type": "code",
   "execution_count": null,
   "metadata": {},
   "outputs": [],
   "source": []
  }
 ],
 "metadata": {
  "kernelspec": {
   "display_name": "Python 3",
   "language": "python",
   "name": "python3"
  },
  "language_info": {
   "codemirror_mode": {
    "name": "ipython",
    "version": 3
   },
   "file_extension": ".py",
   "mimetype": "text/x-python",
   "name": "python",
   "nbconvert_exporter": "python",
   "pygments_lexer": "ipython3",
   "version": "3.8.5"
  }
 },
 "nbformat": 4,
 "nbformat_minor": 4
}
